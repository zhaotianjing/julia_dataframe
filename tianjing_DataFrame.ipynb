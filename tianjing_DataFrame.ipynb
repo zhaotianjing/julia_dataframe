{
  "cells": [
    {
      "cell_type": "markdown",
      "source": [
        ""
      ],
      "metadata": {
        "id": "FobrBU49U_G3"
      }
    },
    {
      "cell_type": "markdown",
      "metadata": {
        "id": "tQ1r1bbb0yBv"
      },
      "source": [
        "# <img src=\"https://github.com/JuliaLang/julia-logo-graphics/raw/master/images/julia-logo-color.png\" height=\"100\" /> _for Pythonistas_\n",
        "\n",
        "> TL;DR: _Julia looks and feels a lot like Python, only much faster. It's dynamic, expressive, extensible, with batteries included, in particular for Data Science_.\n",
        "\n",
        "This notebook is an **introduction to Julia for Python programmers**.\n",
        "\n",
        "It will go through the most important Python features (such as functions, basic types, list comprehensions, exceptions, generators, modules, packages, and so on) and show you how to code them in Julia."
      ]
    },
    {
      "cell_type": "markdown",
      "metadata": {
        "id": "6ew60wXrZM0W"
      },
      "source": [
        "## Running on Google Colab\n",
        "1. Work on a copy of this notebook: _File_ > _Save a copy in Drive_ (you will need a Google account). Alternatively, you can download the notebook using _File_ > _Download .ipynb_, then upload it to [Colab](https://colab.research.google.com/).\n",
        "2. Execute the following cell (click on it and press Ctrl+Enter) to install Julia, IJulia (the Jupyter kernel for Julia) and other packages. You can update `JULIA_VERSION` and the other parameters, if you know what you're doing. Installation takes 2-3 minutes.\n",
        "3. Reload this page (press Ctrl+R, or ⌘+R, or the F5 key) and continue to the _Checking the Installation_ section.\n",
        "\n",
        "* _Note_: If your Colab Runtime gets reset (e.g., due to inactivity), repeat steps 2 and 3."
      ]
    },
    {
      "cell_type": "code",
      "execution_count": null,
      "metadata": {
        "colab": {
          "base_uri": "https://localhost:8080/"
        },
        "id": "GIeFXS0F0zww",
        "outputId": "922df680-20c3-4cd6-c02b-a4373f842dd4"
      },
      "outputs": [
        {
          "output_type": "stream",
          "name": "stdout",
          "text": [
            "Installing Julia 1.7.1 on the current Colab Runtime...\n",
            "2022-07-18 23:25:02 URL:https://storage.googleapis.com/julialang2/bin/linux/x64/1.7/julia-1.7.1-linux-x86_64.tar.gz [123374573/123374573] -> \"/tmp/julia.tar.gz\" [1]\n",
            "Installing Julia package IJulia...\n",
            "Installing Julia package CSV...\n",
            "Installing Julia package DataFrames...\n",
            "Installing Julia package JWAS...\n"
          ]
        }
      ],
      "source": [
        "%%shell\n",
        "set -e\n",
        "\n",
        "#---------------------------------------------------#\n",
        "JULIA_VERSION=\"1.7.1\" # any version ≥ 0.7.0\n",
        "JULIA_PACKAGES=\"IJulia CSV DataFrames JWAS Random Statistics\"  # Install packages\n",
        "JULIA_PACKAGES_IF_GPU=\"CUDA\"\n",
        "JULIA_NUM_THREADS=4\n",
        "#---------------------------------------------------#\n",
        "\n",
        "if [ -n \"$COLAB_GPU\" ] && [ -z `which julia` ]; then\n",
        "  # Install Julia\n",
        "  JULIA_VER=`cut -d '.' -f -2 <<< \"$JULIA_VERSION\"`\n",
        "  echo \"Installing Julia $JULIA_VERSION on the current Colab Runtime...\"\n",
        "  BASE_URL=\"https://julialang-s3.julialang.org/bin/linux/x64\"\n",
        "  URL=\"$BASE_URL/$JULIA_VER/julia-$JULIA_VERSION-linux-x86_64.tar.gz\"\n",
        "  wget -nv $URL -O /tmp/julia.tar.gz # -nv means \"not verbose\"\n",
        "  tar -x -f /tmp/julia.tar.gz -C /usr/local --strip-components 1\n",
        "  rm /tmp/julia.tar.gz\n",
        "\n",
        "  # Install Packages\n",
        "  if [ \"$COLAB_GPU\" = \"1\" ]; then\n",
        "      JULIA_PACKAGES=\"$JULIA_PACKAGES $JULIA_PACKAGES_IF_GPU\"\n",
        "  fi\n",
        "  for PKG in `echo $JULIA_PACKAGES`; do\n",
        "    echo \"Installing Julia package $PKG...\"\n",
        "    julia -e 'using Pkg; pkg\"add '$PKG'; precompile;\"' &> /dev/null\n",
        "  done\n",
        "\n",
        "  # Install kernel and rename it to \"julia\"\n",
        "  echo \"Installing IJulia kernel...\"\n",
        "  julia -e 'using IJulia; IJulia.installkernel(\"julia\", env=Dict(\n",
        "      \"JULIA_NUM_THREADS\"=>\"'\"$JULIA_NUM_THREADS\"'\"))'\n",
        "  KERNEL_DIR=`julia -e \"using IJulia; print(IJulia.kerneldir())\"`\n",
        "  KERNEL_NAME=`ls -d \"$KERNEL_DIR\"/julia*`\n",
        "  mv -f $KERNEL_NAME \"$KERNEL_DIR\"/julia  \n",
        "\n",
        "  echo ''\n",
        "  echo \"Successfully installed `julia -v`!\"\n",
        "  echo \"Please reload this page (press Ctrl+R, ⌘+R, or the F5 key) then\"\n",
        "  echo \"jump to the 'Checking the Installation' section.\"\n",
        "fi"
      ]
    },
    {
      "cell_type": "markdown",
      "metadata": {
        "id": "-OS3Ac017T1i"
      },
      "source": [
        "## Checking the Installation\n",
        "The `versioninfo()` function should print your Julia version and some other info about the system (if you ever ask for help or file an issue about Julia, you should always provide this information)."
      ]
    },
    {
      "cell_type": "code",
      "execution_count": 1,
      "metadata": {
        "colab": {
          "base_uri": "https://localhost:8080/"
        },
        "id": "EEzvvzCl1i0F",
        "outputId": "2ed6c547-6232-4e72-a1e6-664aace93af5"
      },
      "outputs": [
        {
          "output_type": "stream",
          "name": "stdout",
          "text": [
            "Julia Version 1.7.1\n",
            "Commit ac5cc99908 (2021-12-22 19:35 UTC)\n",
            "Platform Info:\n",
            "  OS: Linux (x86_64-pc-linux-gnu)\n",
            "  CPU: Intel(R) Xeon(R) CPU @ 2.30GHz\n",
            "  WORD_SIZE: 64\n",
            "  LIBM: libopenlibm\n",
            "  LLVM: libLLVM-12.0.1 (ORCJIT, haswell)\n",
            "Environment:\n",
            "  JULIA_NUM_THREADS = 4\n"
          ]
        }
      ],
      "source": [
        "versioninfo()"
      ]
    },
    {
      "cell_type": "code",
      "source": [
        "using Pkg;Pkg.status()"
      ],
      "metadata": {
        "colab": {
          "base_uri": "https://localhost:8080/"
        },
        "id": "Yc9tUePRWgDV",
        "outputId": "185fd1ea-66f4-472f-b95b-e3be661e516a"
      },
      "execution_count": 3,
      "outputs": [
        {
          "output_type": "stream",
          "name": "stdout",
          "text": [
            "\u001b[32m\u001b[1m      Status\u001b[22m\u001b[39m `~/.julia/environments/v1.7/Project.toml`\n",
            " \u001b[90m [336ed68f] \u001b[39mCSV v0.8.5\n",
            " \u001b[90m [052768ef] \u001b[39mCUDA v3.12.0\n",
            " \u001b[90m [a93c6f00] \u001b[39mDataFrames v0.22.7\n",
            " \u001b[90m [7073ff75] \u001b[39mIJulia v1.23.3\n",
            " \u001b[90m [c9a035f4] \u001b[39mJWAS v1.1.2\n",
            " \u001b[90m [9a3f8284] \u001b[39mRandom\n",
            " \u001b[90m [10745b16] \u001b[39mStatistics\n"
          ]
        }
      ]
    },
    {
      "cell_type": "markdown",
      "metadata": {
        "id": "tBKp4lciICdi"
      },
      "source": [
        "# 1. Working with DataFrames"
      ]
    },
    {
      "cell_type": "code",
      "source": [
        "using DataFrames, CSV"
      ],
      "metadata": {
        "id": "-7UZDysOZBS6"
      },
      "execution_count": 4,
      "outputs": []
    },
    {
      "cell_type": "markdown",
      "source": [
        "## 1.1 Create a `DataFrame`"
      ],
      "metadata": {
        "id": "L4mPDsQ0Ym1j"
      }
    },
    {
      "cell_type": "code",
      "source": [
        "mydf = DataFrame(ID=1:3, y=randn(3), m1=[0.0,1.0,2.0],m2=[2.0,2.0,1.0])"
      ],
      "metadata": {
        "colab": {
          "base_uri": "https://localhost:8080/",
          "height": 155
        },
        "id": "Rsw7n3NnYwrK",
        "outputId": "5fefd813-df3b-4b3b-ea5b-7c505a067df9"
      },
      "execution_count": 6,
      "outputs": [
        {
          "output_type": "execute_result",
          "data": {
            "text/plain": [
              "\u001b[1m3×4 DataFrame\u001b[0m\n",
              "\u001b[1m Row \u001b[0m│\u001b[1m ID    \u001b[0m\u001b[1m y          \u001b[0m\u001b[1m m1      \u001b[0m\u001b[1m m2      \u001b[0m\n",
              "\u001b[1m     \u001b[0m│\u001b[90m Int64 \u001b[0m\u001b[90m Float64    \u001b[0m\u001b[90m Float64 \u001b[0m\u001b[90m Float64 \u001b[0m\n",
              "─────┼─────────────────────────────────────\n",
              "   1 │     1   0.578629       0.0      2.0\n",
              "   2 │     2  -0.0136659      1.0      2.0\n",
              "   3 │     3   0.181914       2.0      1.0"
            ],
            "text/html": [
              "<table class=\"data-frame\"><thead><tr><th></th><th>ID</th><th>y</th><th>m1</th><th>m2</th></tr><tr><th></th><th>Int64</th><th>Float64</th><th>Float64</th><th>Float64</th></tr></thead><tbody><p>3 rows × 4 columns</p><tr><th>1</th><td>1</td><td>0.578629</td><td>0.0</td><td>2.0</td></tr><tr><th>2</th><td>2</td><td>-0.0136659</td><td>1.0</td><td>2.0</td></tr><tr><th>3</th><td>3</td><td>0.181914</td><td>2.0</td><td>1.0</td></tr></tbody></table>"
            ],
            "text/latex": "\\begin{tabular}{r|cccc}\n\t& ID & y & m1 & m2\\\\\n\t\\hline\n\t& Int64 & Float64 & Float64 & Float64\\\\\n\t\\hline\n\t1 & 1 & 0.578629 & 0.0 & 2.0 \\\\\n\t2 & 2 & -0.0136659 & 1.0 & 2.0 \\\\\n\t3 & 3 & 0.181914 & 2.0 & 1.0 \\\\\n\\end{tabular}\n"
          },
          "metadata": {},
          "execution_count": 6
        }
      ]
    },
    {
      "cell_type": "markdown",
      "source": [
        "Or you can create a `DataFrame` from a matix:"
      ],
      "metadata": {
        "id": "1nNxp5qMfEAW"
      }
    },
    {
      "cell_type": "code",
      "source": [
        "m=[0.0 2.0\n",
        "   1.0 2.0\n",
        "   2.0 1.0]\n",
        "dfnames=[\"m1\",\"m2\"]\n",
        "mydf = DataFrame(m,dfnames)"
      ],
      "metadata": {
        "colab": {
          "base_uri": "https://localhost:8080/",
          "height": 155
        },
        "id": "GObomOwpfLQD",
        "outputId": "dde8a6cc-21e2-4e0b-e503-ed9efd02a751"
      },
      "execution_count": 7,
      "outputs": [
        {
          "output_type": "execute_result",
          "data": {
            "text/plain": [
              "\u001b[1m3×2 DataFrame\u001b[0m\n",
              "\u001b[1m Row \u001b[0m│\u001b[1m m1      \u001b[0m\u001b[1m m2      \u001b[0m\n",
              "\u001b[1m     \u001b[0m│\u001b[90m Float64 \u001b[0m\u001b[90m Float64 \u001b[0m\n",
              "─────┼──────────────────\n",
              "   1 │     0.0      2.0\n",
              "   2 │     1.0      2.0\n",
              "   3 │     2.0      1.0"
            ],
            "text/html": [
              "<table class=\"data-frame\"><thead><tr><th></th><th>m1</th><th>m2</th></tr><tr><th></th><th>Float64</th><th>Float64</th></tr></thead><tbody><p>3 rows × 2 columns</p><tr><th>1</th><td>0.0</td><td>2.0</td></tr><tr><th>2</th><td>1.0</td><td>2.0</td></tr><tr><th>3</th><td>2.0</td><td>1.0</td></tr></tbody></table>"
            ],
            "text/latex": "\\begin{tabular}{r|cc}\n\t& m1 & m2\\\\\n\t\\hline\n\t& Float64 & Float64\\\\\n\t\\hline\n\t1 & 0.0 & 2.0 \\\\\n\t2 & 1.0 & 2.0 \\\\\n\t3 & 2.0 & 1.0 \\\\\n\\end{tabular}\n"
          },
          "metadata": {},
          "execution_count": 7
        }
      ]
    },
    {
      "cell_type": "markdown",
      "source": [
        "## 1.2 Insert columns into a `DataFrame`:"
      ],
      "metadata": {
        "id": "wfRL1MnAf0gT"
      }
    },
    {
      "cell_type": "code",
      "source": [
        "insertcols!(mydf, 1, :ID => 1:3)"
      ],
      "metadata": {
        "colab": {
          "base_uri": "https://localhost:8080/",
          "height": 155
        },
        "id": "WXPmiyYLf1VP",
        "outputId": "a1ab794c-55c6-43b5-c515-139a7407fa74"
      },
      "execution_count": 8,
      "outputs": [
        {
          "output_type": "execute_result",
          "data": {
            "text/plain": [
              "\u001b[1m3×3 DataFrame\u001b[0m\n",
              "\u001b[1m Row \u001b[0m│\u001b[1m ID    \u001b[0m\u001b[1m m1      \u001b[0m\u001b[1m m2      \u001b[0m\n",
              "\u001b[1m     \u001b[0m│\u001b[90m Int64 \u001b[0m\u001b[90m Float64 \u001b[0m\u001b[90m Float64 \u001b[0m\n",
              "─────┼─────────────────────────\n",
              "   1 │     1      0.0      2.0\n",
              "   2 │     2      1.0      2.0\n",
              "   3 │     3      2.0      1.0"
            ],
            "text/html": [
              "<table class=\"data-frame\"><thead><tr><th></th><th>ID</th><th>m1</th><th>m2</th></tr><tr><th></th><th>Int64</th><th>Float64</th><th>Float64</th></tr></thead><tbody><p>3 rows × 3 columns</p><tr><th>1</th><td>1</td><td>0.0</td><td>2.0</td></tr><tr><th>2</th><td>2</td><td>1.0</td><td>2.0</td></tr><tr><th>3</th><td>3</td><td>2.0</td><td>1.0</td></tr></tbody></table>"
            ],
            "text/latex": "\\begin{tabular}{r|ccc}\n\t& ID & m1 & m2\\\\\n\t\\hline\n\t& Int64 & Float64 & Float64\\\\\n\t\\hline\n\t1 & 1 & 0.0 & 2.0 \\\\\n\t2 & 2 & 1.0 & 2.0 \\\\\n\t3 & 3 & 2.0 & 1.0 \\\\\n\\end{tabular}\n"
          },
          "metadata": {},
          "execution_count": 8
        }
      ]
    },
    {
      "cell_type": "code",
      "source": [
        "insertcols!(mydf, 2, :y => randn(3))"
      ],
      "metadata": {
        "colab": {
          "base_uri": "https://localhost:8080/",
          "height": 155
        },
        "id": "tyuDnLHvgLqH",
        "outputId": "3cb3d0f1-86dd-40f2-b8c2-20012b002859"
      },
      "execution_count": 9,
      "outputs": [
        {
          "output_type": "execute_result",
          "data": {
            "text/plain": [
              "\u001b[1m3×4 DataFrame\u001b[0m\n",
              "\u001b[1m Row \u001b[0m│\u001b[1m ID    \u001b[0m\u001b[1m y         \u001b[0m\u001b[1m m1      \u001b[0m\u001b[1m m2      \u001b[0m\n",
              "\u001b[1m     \u001b[0m│\u001b[90m Int64 \u001b[0m\u001b[90m Float64   \u001b[0m\u001b[90m Float64 \u001b[0m\u001b[90m Float64 \u001b[0m\n",
              "─────┼────────────────────────────────────\n",
              "   1 │     1  -0.687928      0.0      2.0\n",
              "   2 │     2  -1.94105       1.0      2.0\n",
              "   3 │     3   0.476903      2.0      1.0"
            ],
            "text/html": [
              "<table class=\"data-frame\"><thead><tr><th></th><th>ID</th><th>y</th><th>m1</th><th>m2</th></tr><tr><th></th><th>Int64</th><th>Float64</th><th>Float64</th><th>Float64</th></tr></thead><tbody><p>3 rows × 4 columns</p><tr><th>1</th><td>1</td><td>-0.687928</td><td>0.0</td><td>2.0</td></tr><tr><th>2</th><td>2</td><td>-1.94105</td><td>1.0</td><td>2.0</td></tr><tr><th>3</th><td>3</td><td>0.476903</td><td>2.0</td><td>1.0</td></tr></tbody></table>"
            ],
            "text/latex": "\\begin{tabular}{r|cccc}\n\t& ID & y & m1 & m2\\\\\n\t\\hline\n\t& Int64 & Float64 & Float64 & Float64\\\\\n\t\\hline\n\t1 & 1 & -0.687928 & 0.0 & 2.0 \\\\\n\t2 & 2 & -1.94105 & 1.0 & 2.0 \\\\\n\t3 & 3 & 0.476903 & 2.0 & 1.0 \\\\\n\\end{tabular}\n"
          },
          "metadata": {},
          "execution_count": 9
        }
      ]
    },
    {
      "cell_type": "markdown",
      "source": [
        "## 1.3 change type of a column"
      ],
      "metadata": {
        "id": "Q96Gnc7JgbSk"
      }
    },
    {
      "cell_type": "code",
      "source": [
        "mydf[!,:ID] = string.(mydf[!,:ID])"
      ],
      "metadata": {
        "colab": {
          "base_uri": "https://localhost:8080/"
        },
        "id": "sd5jF1kcggjD",
        "outputId": "1ccf8cd8-71a9-4f5f-826d-cd6eb5669f42"
      },
      "execution_count": 10,
      "outputs": [
        {
          "output_type": "execute_result",
          "data": {
            "text/plain": [
              "3-element Vector{String}:\n",
              " \"1\"\n",
              " \"2\"\n",
              " \"3\""
            ]
          },
          "metadata": {},
          "execution_count": 10
        }
      ]
    },
    {
      "cell_type": "code",
      "source": [
        "mydf"
      ],
      "metadata": {
        "colab": {
          "base_uri": "https://localhost:8080/",
          "height": 155
        },
        "id": "Bf_zG02mgoiP",
        "outputId": "20e3e774-b66e-4885-8a51-3b2473f31b1b"
      },
      "execution_count": 11,
      "outputs": [
        {
          "output_type": "execute_result",
          "data": {
            "text/plain": [
              "\u001b[1m3×4 DataFrame\u001b[0m\n",
              "\u001b[1m Row \u001b[0m│\u001b[1m ID     \u001b[0m\u001b[1m y         \u001b[0m\u001b[1m m1      \u001b[0m\u001b[1m m2      \u001b[0m\n",
              "\u001b[1m     \u001b[0m│\u001b[90m String \u001b[0m\u001b[90m Float64   \u001b[0m\u001b[90m Float64 \u001b[0m\u001b[90m Float64 \u001b[0m\n",
              "─────┼─────────────────────────────────────\n",
              "   1 │ 1       -0.687928      0.0      2.0\n",
              "   2 │ 2       -1.94105       1.0      2.0\n",
              "   3 │ 3        0.476903      2.0      1.0"
            ],
            "text/html": [
              "<table class=\"data-frame\"><thead><tr><th></th><th>ID</th><th>y</th><th>m1</th><th>m2</th></tr><tr><th></th><th>String</th><th>Float64</th><th>Float64</th><th>Float64</th></tr></thead><tbody><p>3 rows × 4 columns</p><tr><th>1</th><td>1</td><td>-0.687928</td><td>0.0</td><td>2.0</td></tr><tr><th>2</th><td>2</td><td>-1.94105</td><td>1.0</td><td>2.0</td></tr><tr><th>3</th><td>3</td><td>0.476903</td><td>2.0</td><td>1.0</td></tr></tbody></table>"
            ],
            "text/latex": "\\begin{tabular}{r|cccc}\n\t& ID & y & m1 & m2\\\\\n\t\\hline\n\t& String & Float64 & Float64 & Float64\\\\\n\t\\hline\n\t1 & 1 & -0.687928 & 0.0 & 2.0 \\\\\n\t2 & 2 & -1.94105 & 1.0 & 2.0 \\\\\n\t3 & 3 & 0.476903 & 2.0 & 1.0 \\\\\n\\end{tabular}\n"
          },
          "metadata": {},
          "execution_count": 11
        }
      ]
    },
    {
      "cell_type": "markdown",
      "source": [
        "## 1.4 Save a `DataFrame` as a CSV file"
      ],
      "metadata": {
        "id": "D4r8irgxgvPm"
      }
    },
    {
      "cell_type": "code",
      "source": [
        "CSV.write(\"test.csv\", mydf)"
      ],
      "metadata": {
        "colab": {
          "base_uri": "https://localhost:8080/"
        },
        "id": "pd5hpu1Mg0gK",
        "outputId": "86f2c712-288f-47f3-ec2c-bcffd55e7110"
      },
      "execution_count": 12,
      "outputs": [
        {
          "output_type": "execute_result",
          "data": {
            "text/plain": [
              "\"test.csv\""
            ]
          },
          "metadata": {},
          "execution_count": 12
        }
      ]
    },
    {
      "cell_type": "markdown",
      "source": [
        "## 1.5 Read data from CSV files as `DataFrame`"
      ],
      "metadata": {
        "id": "0NkwLTJjhMgS"
      }
    },
    {
      "cell_type": "code",
      "source": [
        "mydf=CSV.read(\"test.csv\",DataFrame)\n",
        "mydf[!,:ID] = string.(mydf[!,:ID]);\n",
        "mydf"
      ],
      "metadata": {
        "colab": {
          "base_uri": "https://localhost:8080/",
          "height": 155
        },
        "id": "w51kD93ThTSE",
        "outputId": "e30209cc-0671-479d-8bff-8a25c6da8435"
      },
      "execution_count": 39,
      "outputs": [
        {
          "output_type": "execute_result",
          "data": {
            "text/plain": [
              "\u001b[1m3×4 DataFrame\u001b[0m\n",
              "\u001b[1m Row \u001b[0m│\u001b[1m ID     \u001b[0m\u001b[1m y         \u001b[0m\u001b[1m m1      \u001b[0m\u001b[1m m2      \u001b[0m\n",
              "\u001b[1m     \u001b[0m│\u001b[90m String \u001b[0m\u001b[90m Float64   \u001b[0m\u001b[90m Float64 \u001b[0m\u001b[90m Float64 \u001b[0m\n",
              "─────┼─────────────────────────────────────\n",
              "   1 │ 1       -0.687928      0.0      2.0\n",
              "   2 │ 2       -1.94105       1.0      2.0\n",
              "   3 │ 3        0.476903      2.0      1.0"
            ],
            "text/html": [
              "<table class=\"data-frame\"><thead><tr><th></th><th>ID</th><th>y</th><th>m1</th><th>m2</th></tr><tr><th></th><th>String</th><th>Float64</th><th>Float64</th><th>Float64</th></tr></thead><tbody><p>3 rows × 4 columns</p><tr><th>1</th><td>1</td><td>-0.687928</td><td>0.0</td><td>2.0</td></tr><tr><th>2</th><td>2</td><td>-1.94105</td><td>1.0</td><td>2.0</td></tr><tr><th>3</th><td>3</td><td>0.476903</td><td>2.0</td><td>1.0</td></tr></tbody></table>"
            ],
            "text/latex": "\\begin{tabular}{r|cccc}\n\t& ID & y & m1 & m2\\\\\n\t\\hline\n\t& String & Float64 & Float64 & Float64\\\\\n\t\\hline\n\t1 & 1 & -0.687928 & 0.0 & 2.0 \\\\\n\t2 & 2 & -1.94105 & 1.0 & 2.0 \\\\\n\t3 & 3 & 0.476903 & 2.0 & 1.0 \\\\\n\\end{tabular}\n"
          },
          "metadata": {},
          "execution_count": 39
        }
      ]
    },
    {
      "cell_type": "markdown",
      "source": [
        "more options can be found in the documentation (run `?CSV.File()`)"
      ],
      "metadata": {
        "id": "jpauEj28hh3v"
      }
    },
    {
      "cell_type": "markdown",
      "source": [
        "## 1.6 Access the columns of a data frame without copying "
      ],
      "metadata": {
        "id": "Ywz0CFmSj2ql"
      }
    },
    {
      "cell_type": "code",
      "source": [
        "mydf[!,\"ID\"]"
      ],
      "metadata": {
        "colab": {
          "base_uri": "https://localhost:8080/"
        },
        "id": "h5ek2VY3j195",
        "outputId": "34b3bb0f-f462-44d0-c5ee-f55009586fd5"
      },
      "execution_count": 40,
      "outputs": [
        {
          "output_type": "execute_result",
          "data": {
            "text/plain": [
              "3-element Vector{String}:\n",
              " \"1\"\n",
              " \"2\"\n",
              " \"3\""
            ]
          },
          "metadata": {},
          "execution_count": 40
        }
      ]
    },
    {
      "cell_type": "code",
      "source": [
        "mydf[!,1:2]"
      ],
      "metadata": {
        "colab": {
          "base_uri": "https://localhost:8080/",
          "height": 155
        },
        "id": "HJBbd1l8juL3",
        "outputId": "43cb7fb8-c8e5-48f2-fac7-3d689426c5b6"
      },
      "execution_count": 41,
      "outputs": [
        {
          "output_type": "execute_result",
          "data": {
            "text/plain": [
              "\u001b[1m3×2 DataFrame\u001b[0m\n",
              "\u001b[1m Row \u001b[0m│\u001b[1m ID     \u001b[0m\u001b[1m y         \u001b[0m\n",
              "\u001b[1m     \u001b[0m│\u001b[90m String \u001b[0m\u001b[90m Float64   \u001b[0m\n",
              "─────┼───────────────────\n",
              "   1 │ 1       -0.687928\n",
              "   2 │ 2       -1.94105\n",
              "   3 │ 3        0.476903"
            ],
            "text/html": [
              "<table class=\"data-frame\"><thead><tr><th></th><th>ID</th><th>y</th></tr><tr><th></th><th>String</th><th>Float64</th></tr></thead><tbody><p>3 rows × 2 columns</p><tr><th>1</th><td>1</td><td>-0.687928</td></tr><tr><th>2</th><td>2</td><td>-1.94105</td></tr><tr><th>3</th><td>3</td><td>0.476903</td></tr></tbody></table>"
            ],
            "text/latex": "\\begin{tabular}{r|cc}\n\t& ID & y\\\\\n\t\\hline\n\t& String & Float64\\\\\n\t\\hline\n\t1 & 1 & -0.687928 \\\\\n\t2 & 2 & -1.94105 \\\\\n\t3 & 3 & 0.476903 \\\\\n\\end{tabular}\n"
          },
          "metadata": {},
          "execution_count": 41
        }
      ]
    },
    {
      "cell_type": "code",
      "source": [
        "mydf[!,[:ID,:y]]"
      ],
      "metadata": {
        "colab": {
          "base_uri": "https://localhost:8080/",
          "height": 155
        },
        "id": "uy0d5KFakJsj",
        "outputId": "bc77d32f-8091-4a7e-c2f4-8dc90a8c7b81"
      },
      "execution_count": 42,
      "outputs": [
        {
          "output_type": "execute_result",
          "data": {
            "text/plain": [
              "\u001b[1m3×2 DataFrame\u001b[0m\n",
              "\u001b[1m Row \u001b[0m│\u001b[1m ID     \u001b[0m\u001b[1m y         \u001b[0m\n",
              "\u001b[1m     \u001b[0m│\u001b[90m String \u001b[0m\u001b[90m Float64   \u001b[0m\n",
              "─────┼───────────────────\n",
              "   1 │ 1       -0.687928\n",
              "   2 │ 2       -1.94105\n",
              "   3 │ 3        0.476903"
            ],
            "text/html": [
              "<table class=\"data-frame\"><thead><tr><th></th><th>ID</th><th>y</th></tr><tr><th></th><th>String</th><th>Float64</th></tr></thead><tbody><p>3 rows × 2 columns</p><tr><th>1</th><td>1</td><td>-0.687928</td></tr><tr><th>2</th><td>2</td><td>-1.94105</td></tr><tr><th>3</th><td>3</td><td>0.476903</td></tr></tbody></table>"
            ],
            "text/latex": "\\begin{tabular}{r|cc}\n\t& ID & y\\\\\n\t\\hline\n\t& String & Float64\\\\\n\t\\hline\n\t1 & 1 & -0.687928 \\\\\n\t2 & 2 & -1.94105 \\\\\n\t3 & 3 & 0.476903 \\\\\n\\end{tabular}\n"
          },
          "metadata": {},
          "execution_count": 42
        }
      ]
    },
    {
      "cell_type": "code",
      "source": [
        "a=mydf[!,\"ID\"]\n",
        "a[1]=\"will change\";\n",
        "mydf"
      ],
      "metadata": {
        "colab": {
          "base_uri": "https://localhost:8080/",
          "height": 155
        },
        "id": "jfgSWq8uk0pa",
        "outputId": "13cf701b-6fe3-4060-ddb3-1f8ddce8b972"
      },
      "execution_count": 43,
      "outputs": [
        {
          "output_type": "execute_result",
          "data": {
            "text/plain": [
              "\u001b[1m3×4 DataFrame\u001b[0m\n",
              "\u001b[1m Row \u001b[0m│\u001b[1m ID          \u001b[0m\u001b[1m y         \u001b[0m\u001b[1m m1      \u001b[0m\u001b[1m m2      \u001b[0m\n",
              "\u001b[1m     \u001b[0m│\u001b[90m String      \u001b[0m\u001b[90m Float64   \u001b[0m\u001b[90m Float64 \u001b[0m\u001b[90m Float64 \u001b[0m\n",
              "─────┼──────────────────────────────────────────\n",
              "   1 │ will change  -0.687928      0.0      2.0\n",
              "   2 │ 2            -1.94105       1.0      2.0\n",
              "   3 │ 3             0.476903      2.0      1.0"
            ],
            "text/html": [
              "<table class=\"data-frame\"><thead><tr><th></th><th>ID</th><th>y</th><th>m1</th><th>m2</th></tr><tr><th></th><th>String</th><th>Float64</th><th>Float64</th><th>Float64</th></tr></thead><tbody><p>3 rows × 4 columns</p><tr><th>1</th><td>will change</td><td>-0.687928</td><td>0.0</td><td>2.0</td></tr><tr><th>2</th><td>2</td><td>-1.94105</td><td>1.0</td><td>2.0</td></tr><tr><th>3</th><td>3</td><td>0.476903</td><td>2.0</td><td>1.0</td></tr></tbody></table>"
            ],
            "text/latex": "\\begin{tabular}{r|cccc}\n\t& ID & y & m1 & m2\\\\\n\t\\hline\n\t& String & Float64 & Float64 & Float64\\\\\n\t\\hline\n\t1 & will change & -0.687928 & 0.0 & 2.0 \\\\\n\t2 & 2 & -1.94105 & 1.0 & 2.0 \\\\\n\t3 & 3 & 0.476903 & 2.0 & 1.0 \\\\\n\\end{tabular}\n"
          },
          "metadata": {},
          "execution_count": 43
        }
      ]
    },
    {
      "cell_type": "markdown",
      "source": [
        "## 1.7 get a copy of the column"
      ],
      "metadata": {
        "id": "YacNXiGukPLf"
      }
    },
    {
      "cell_type": "code",
      "source": [
        "mydf[:,\"ID\"]"
      ],
      "metadata": {
        "colab": {
          "base_uri": "https://localhost:8080/"
        },
        "id": "O5NmjfCKkVPj",
        "outputId": "9aa407cc-1fcc-4805-ed50-3c742b7ed163"
      },
      "execution_count": 44,
      "outputs": [
        {
          "output_type": "execute_result",
          "data": {
            "text/plain": [
              "3-element Vector{String}:\n",
              " \"will change\"\n",
              " \"2\"\n",
              " \"3\""
            ]
          },
          "metadata": {},
          "execution_count": 44
        }
      ]
    },
    {
      "cell_type": "code",
      "source": [
        "mydf[:,1:2]"
      ],
      "metadata": {
        "colab": {
          "base_uri": "https://localhost:8080/",
          "height": 155
        },
        "id": "15mHhG9Akwwq",
        "outputId": "43adcb32-7cfb-4db2-ad83-7420ac4e5c47"
      },
      "execution_count": 45,
      "outputs": [
        {
          "output_type": "execute_result",
          "data": {
            "text/plain": [
              "\u001b[1m3×2 DataFrame\u001b[0m\n",
              "\u001b[1m Row \u001b[0m│\u001b[1m ID          \u001b[0m\u001b[1m y         \u001b[0m\n",
              "\u001b[1m     \u001b[0m│\u001b[90m String      \u001b[0m\u001b[90m Float64   \u001b[0m\n",
              "─────┼────────────────────────\n",
              "   1 │ will change  -0.687928\n",
              "   2 │ 2            -1.94105\n",
              "   3 │ 3             0.476903"
            ],
            "text/html": [
              "<table class=\"data-frame\"><thead><tr><th></th><th>ID</th><th>y</th></tr><tr><th></th><th>String</th><th>Float64</th></tr></thead><tbody><p>3 rows × 2 columns</p><tr><th>1</th><td>will change</td><td>-0.687928</td></tr><tr><th>2</th><td>2</td><td>-1.94105</td></tr><tr><th>3</th><td>3</td><td>0.476903</td></tr></tbody></table>"
            ],
            "text/latex": "\\begin{tabular}{r|cc}\n\t& ID & y\\\\\n\t\\hline\n\t& String & Float64\\\\\n\t\\hline\n\t1 & will change & -0.687928 \\\\\n\t2 & 2 & -1.94105 \\\\\n\t3 & 3 & 0.476903 \\\\\n\\end{tabular}\n"
          },
          "metadata": {},
          "execution_count": 45
        }
      ]
    },
    {
      "cell_type": "code",
      "source": [
        "a=mydf[:,\"ID\"]\n",
        "a[1]=\"this won't change\";\n",
        "mydf"
      ],
      "metadata": {
        "colab": {
          "base_uri": "https://localhost:8080/",
          "height": 155
        },
        "id": "_kaYkmMxlEej",
        "outputId": "72f1176e-b614-47bf-cc4b-1acff64dbaec"
      },
      "execution_count": 46,
      "outputs": [
        {
          "output_type": "execute_result",
          "data": {
            "text/plain": [
              "\u001b[1m3×4 DataFrame\u001b[0m\n",
              "\u001b[1m Row \u001b[0m│\u001b[1m ID          \u001b[0m\u001b[1m y         \u001b[0m\u001b[1m m1      \u001b[0m\u001b[1m m2      \u001b[0m\n",
              "\u001b[1m     \u001b[0m│\u001b[90m String      \u001b[0m\u001b[90m Float64   \u001b[0m\u001b[90m Float64 \u001b[0m\u001b[90m Float64 \u001b[0m\n",
              "─────┼──────────────────────────────────────────\n",
              "   1 │ will change  -0.687928      0.0      2.0\n",
              "   2 │ 2            -1.94105       1.0      2.0\n",
              "   3 │ 3             0.476903      2.0      1.0"
            ],
            "text/html": [
              "<table class=\"data-frame\"><thead><tr><th></th><th>ID</th><th>y</th><th>m1</th><th>m2</th></tr><tr><th></th><th>String</th><th>Float64</th><th>Float64</th><th>Float64</th></tr></thead><tbody><p>3 rows × 4 columns</p><tr><th>1</th><td>will change</td><td>-0.687928</td><td>0.0</td><td>2.0</td></tr><tr><th>2</th><td>2</td><td>-1.94105</td><td>1.0</td><td>2.0</td></tr><tr><th>3</th><td>3</td><td>0.476903</td><td>2.0</td><td>1.0</td></tr></tbody></table>"
            ],
            "text/latex": "\\begin{tabular}{r|cccc}\n\t& ID & y & m1 & m2\\\\\n\t\\hline\n\t& String & Float64 & Float64 & Float64\\\\\n\t\\hline\n\t1 & will change & -0.687928 & 0.0 & 2.0 \\\\\n\t2 & 2 & -1.94105 & 1.0 & 2.0 \\\\\n\t3 & 3 & 0.476903 & 2.0 & 1.0 \\\\\n\\end{tabular}\n"
          },
          "metadata": {},
          "execution_count": 46
        }
      ]
    },
    {
      "cell_type": "code",
      "source": [
        "mydf[:,:ID] = [\"a1\",\"a2\",\"a3\"];\n",
        "mydf"
      ],
      "metadata": {
        "colab": {
          "base_uri": "https://localhost:8080/",
          "height": 155
        },
        "id": "GqHGglyvkjKP",
        "outputId": "d33b388e-866f-48dd-d9c4-9d79c607ee3a"
      },
      "execution_count": 48,
      "outputs": [
        {
          "output_type": "execute_result",
          "data": {
            "text/plain": [
              "\u001b[1m3×4 DataFrame\u001b[0m\n",
              "\u001b[1m Row \u001b[0m│\u001b[1m ID     \u001b[0m\u001b[1m y         \u001b[0m\u001b[1m m1      \u001b[0m\u001b[1m m2      \u001b[0m\n",
              "\u001b[1m     \u001b[0m│\u001b[90m String \u001b[0m\u001b[90m Float64   \u001b[0m\u001b[90m Float64 \u001b[0m\u001b[90m Float64 \u001b[0m\n",
              "─────┼─────────────────────────────────────\n",
              "   1 │ a1      -0.687928      0.0      2.0\n",
              "   2 │ a2      -1.94105       1.0      2.0\n",
              "   3 │ a3       0.476903      2.0      1.0"
            ],
            "text/html": [
              "<table class=\"data-frame\"><thead><tr><th></th><th>ID</th><th>y</th><th>m1</th><th>m2</th></tr><tr><th></th><th>String</th><th>Float64</th><th>Float64</th><th>Float64</th></tr></thead><tbody><p>3 rows × 4 columns</p><tr><th>1</th><td>a1</td><td>-0.687928</td><td>0.0</td><td>2.0</td></tr><tr><th>2</th><td>a2</td><td>-1.94105</td><td>1.0</td><td>2.0</td></tr><tr><th>3</th><td>a3</td><td>0.476903</td><td>2.0</td><td>1.0</td></tr></tbody></table>"
            ],
            "text/latex": "\\begin{tabular}{r|cccc}\n\t& ID & y & m1 & m2\\\\\n\t\\hline\n\t& String & Float64 & Float64 & Float64\\\\\n\t\\hline\n\t1 & a1 & -0.687928 & 0.0 & 2.0 \\\\\n\t2 & a2 & -1.94105 & 1.0 & 2.0 \\\\\n\t3 & a3 & 0.476903 & 2.0 & 1.0 \\\\\n\\end{tabular}\n"
          },
          "metadata": {},
          "execution_count": 48
        }
      ]
    },
    {
      "cell_type": "code",
      "source": [
        "mydf[!,:ID] = [\"ind1\",\"ind2\",\"ind3\"];\n",
        "mydf"
      ],
      "metadata": {
        "colab": {
          "base_uri": "https://localhost:8080/",
          "height": 155
        },
        "id": "-Ejbzcz6lnlO",
        "outputId": "dcc6f314-3b9b-4625-f7de-8ce4657a13fa"
      },
      "execution_count": 49,
      "outputs": [
        {
          "output_type": "execute_result",
          "data": {
            "text/plain": [
              "\u001b[1m3×4 DataFrame\u001b[0m\n",
              "\u001b[1m Row \u001b[0m│\u001b[1m ID     \u001b[0m\u001b[1m y         \u001b[0m\u001b[1m m1      \u001b[0m\u001b[1m m2      \u001b[0m\n",
              "\u001b[1m     \u001b[0m│\u001b[90m String \u001b[0m\u001b[90m Float64   \u001b[0m\u001b[90m Float64 \u001b[0m\u001b[90m Float64 \u001b[0m\n",
              "─────┼─────────────────────────────────────\n",
              "   1 │ ind1    -0.687928      0.0      2.0\n",
              "   2 │ ind2    -1.94105       1.0      2.0\n",
              "   3 │ ind3     0.476903      2.0      1.0"
            ],
            "text/html": [
              "<table class=\"data-frame\"><thead><tr><th></th><th>ID</th><th>y</th><th>m1</th><th>m2</th></tr><tr><th></th><th>String</th><th>Float64</th><th>Float64</th><th>Float64</th></tr></thead><tbody><p>3 rows × 4 columns</p><tr><th>1</th><td>ind1</td><td>-0.687928</td><td>0.0</td><td>2.0</td></tr><tr><th>2</th><td>ind2</td><td>-1.94105</td><td>1.0</td><td>2.0</td></tr><tr><th>3</th><td>ind3</td><td>0.476903</td><td>2.0</td><td>1.0</td></tr></tbody></table>"
            ],
            "text/latex": "\\begin{tabular}{r|cccc}\n\t& ID & y & m1 & m2\\\\\n\t\\hline\n\t& String & Float64 & Float64 & Float64\\\\\n\t\\hline\n\t1 & ind1 & -0.687928 & 0.0 & 2.0 \\\\\n\t2 & ind2 & -1.94105 & 1.0 & 2.0 \\\\\n\t3 & ind3 & 0.476903 & 2.0 & 1.0 \\\\\n\\end{tabular}\n"
          },
          "metadata": {},
          "execution_count": 49
        }
      ]
    },
    {
      "cell_type": "markdown",
      "source": [
        "## 1.8 Indexing"
      ],
      "metadata": {
        "id": "ypvPQZuCmvFf"
      }
    },
    {
      "cell_type": "code",
      "source": [
        "mydf[1:2,:y] # returns a vector"
      ],
      "metadata": {
        "colab": {
          "base_uri": "https://localhost:8080/"
        },
        "id": "ZLyaeW-knLZe",
        "outputId": "cc9cc255-6deb-4856-d5f3-3000d618fa01"
      },
      "execution_count": 62,
      "outputs": [
        {
          "output_type": "execute_result",
          "data": {
            "text/plain": [
              "2-element Vector{Float64}:\n",
              " -0.6879277167515507\n",
              " -1.9410515524856116"
            ]
          },
          "metadata": {},
          "execution_count": 62
        }
      ]
    },
    {
      "cell_type": "code",
      "source": [
        "mydf[1:2,2] # returns a vector"
      ],
      "metadata": {
        "colab": {
          "base_uri": "https://localhost:8080/"
        },
        "id": "bCfLNCEmm3jc",
        "outputId": "08ca46d3-efb6-42f5-ff9d-19cd8616c044"
      },
      "execution_count": 59,
      "outputs": [
        {
          "output_type": "execute_result",
          "data": {
            "text/plain": [
              "2-element Vector{Float64}:\n",
              " -0.6879277167515507\n",
              " -1.9410515524856116"
            ]
          },
          "metadata": {},
          "execution_count": 59
        }
      ]
    },
    {
      "cell_type": "code",
      "source": [
        "mydf[1:2,[:y]] #returns a data frame object"
      ],
      "metadata": {
        "colab": {
          "base_uri": "https://localhost:8080/",
          "height": 134
        },
        "id": "LcnDwdzsnPHB",
        "outputId": "a3520973-9ce4-4934-ebc5-1cf4b8f7db4b"
      },
      "execution_count": 63,
      "outputs": [
        {
          "output_type": "execute_result",
          "data": {
            "text/plain": [
              "\u001b[1m2×1 DataFrame\u001b[0m\n",
              "\u001b[1m Row \u001b[0m│\u001b[1m y         \u001b[0m\n",
              "\u001b[1m     \u001b[0m│\u001b[90m Float64   \u001b[0m\n",
              "─────┼───────────\n",
              "   1 │ -0.687928\n",
              "   2 │ -1.94105"
            ],
            "text/html": [
              "<table class=\"data-frame\"><thead><tr><th></th><th>y</th></tr><tr><th></th><th>Float64</th></tr></thead><tbody><p>2 rows × 1 columns</p><tr><th>1</th><td>-0.687928</td></tr><tr><th>2</th><td>-1.94105</td></tr></tbody></table>"
            ],
            "text/latex": "\\begin{tabular}{r|c}\n\t& y\\\\\n\t\\hline\n\t& Float64\\\\\n\t\\hline\n\t1 & -0.687928 \\\\\n\t2 & -1.94105 \\\\\n\\end{tabular}\n"
          },
          "metadata": {},
          "execution_count": 63
        }
      ]
    },
    {
      "cell_type": "code",
      "source": [
        "mydf[1:2,[2]] #returns a data frame object"
      ],
      "metadata": {
        "colab": {
          "base_uri": "https://localhost:8080/",
          "height": 134
        },
        "id": "lveOtMHnnR2i",
        "outputId": "2cf82997-561a-4ca6-c6de-5d575ff314db"
      },
      "execution_count": 64,
      "outputs": [
        {
          "output_type": "execute_result",
          "data": {
            "text/plain": [
              "\u001b[1m2×1 DataFrame\u001b[0m\n",
              "\u001b[1m Row \u001b[0m│\u001b[1m y         \u001b[0m\n",
              "\u001b[1m     \u001b[0m│\u001b[90m Float64   \u001b[0m\n",
              "─────┼───────────\n",
              "   1 │ -0.687928\n",
              "   2 │ -1.94105"
            ],
            "text/html": [
              "<table class=\"data-frame\"><thead><tr><th></th><th>y</th></tr><tr><th></th><th>Float64</th></tr></thead><tbody><p>2 rows × 1 columns</p><tr><th>1</th><td>-0.687928</td></tr><tr><th>2</th><td>-1.94105</td></tr></tbody></table>"
            ],
            "text/latex": "\\begin{tabular}{r|c}\n\t& y\\\\\n\t\\hline\n\t& Float64\\\\\n\t\\hline\n\t1 & -0.687928 \\\\\n\t2 & -1.94105 \\\\\n\\end{tabular}\n"
          },
          "metadata": {},
          "execution_count": 64
        }
      ]
    },
    {
      "cell_type": "code",
      "source": [
        "mydf[1:2,[1,3]] #returns a data frame object"
      ],
      "metadata": {
        "colab": {
          "base_uri": "https://localhost:8080/",
          "height": 134
        },
        "id": "VFDUY3dQmywb",
        "outputId": "b424115d-dee0-4ca1-bf00-4e5b7e583071"
      },
      "execution_count": 65,
      "outputs": [
        {
          "output_type": "execute_result",
          "data": {
            "text/plain": [
              "\u001b[1m2×2 DataFrame\u001b[0m\n",
              "\u001b[1m Row \u001b[0m│\u001b[1m ID     \u001b[0m\u001b[1m m1      \u001b[0m\n",
              "\u001b[1m     \u001b[0m│\u001b[90m String \u001b[0m\u001b[90m Float64 \u001b[0m\n",
              "─────┼─────────────────\n",
              "   1 │ ind1        0.0\n",
              "   2 │ ind2        1.0"
            ],
            "text/html": [
              "<table class=\"data-frame\"><thead><tr><th></th><th>ID</th><th>m1</th></tr><tr><th></th><th>String</th><th>Float64</th></tr></thead><tbody><p>2 rows × 2 columns</p><tr><th>1</th><td>ind1</td><td>0.0</td></tr><tr><th>2</th><td>ind2</td><td>1.0</td></tr></tbody></table>"
            ],
            "text/latex": "\\begin{tabular}{r|cc}\n\t& ID & m1\\\\\n\t\\hline\n\t& String & Float64\\\\\n\t\\hline\n\t1 & ind1 & 0.0 \\\\\n\t2 & ind2 & 1.0 \\\\\n\\end{tabular}\n"
          },
          "metadata": {},
          "execution_count": 65
        }
      ]
    },
    {
      "cell_type": "code",
      "source": [
        "mydf[1:2,end] #end means the last one"
      ],
      "metadata": {
        "colab": {
          "base_uri": "https://localhost:8080/"
        },
        "id": "61b0gPnLm-DY",
        "outputId": "35199802-fb43-4591-be54-066d8258b2e6"
      },
      "execution_count": 66,
      "outputs": [
        {
          "output_type": "execute_result",
          "data": {
            "text/plain": [
              "2-element Vector{Float64}:\n",
              " 2.0\n",
              " 2.0"
            ]
          },
          "metadata": {},
          "execution_count": 66
        }
      ]
    },
    {
      "cell_type": "markdown",
      "source": [
        "## 1.9 DataFrame to Matrix"
      ],
      "metadata": {
        "id": "mpmWed8Cl2K4"
      }
    },
    {
      "cell_type": "code",
      "source": [
        "Matrix(mydf[:,[:m1,:m2]])"
      ],
      "metadata": {
        "colab": {
          "base_uri": "https://localhost:8080/"
        },
        "id": "Pth_IBTnl5Yi",
        "outputId": "81ca13e8-9faf-428d-d31e-97ec2aed10a5"
      },
      "execution_count": 50,
      "outputs": [
        {
          "output_type": "execute_result",
          "data": {
            "text/plain": [
              "3×2 Matrix{Float64}:\n",
              " 0.0  2.0\n",
              " 1.0  2.0\n",
              " 2.0  1.0"
            ]
          },
          "metadata": {},
          "execution_count": 50
        }
      ]
    },
    {
      "cell_type": "markdown",
      "source": [
        "## 1.10 get basic information about a dataframe"
      ],
      "metadata": {
        "id": "w-7ttyfNlsvu"
      }
    },
    {
      "cell_type": "code",
      "source": [
        "size(mydf)"
      ],
      "metadata": {
        "colab": {
          "base_uri": "https://localhost:8080/"
        },
        "id": "eUaS2nL0mGOe",
        "outputId": "7b9bc9db-54a9-4037-ac54-e8462e8bfce2"
      },
      "execution_count": 51,
      "outputs": [
        {
          "output_type": "execute_result",
          "data": {
            "text/plain": [
              "(3, 4)"
            ]
          },
          "metadata": {},
          "execution_count": 51
        }
      ]
    },
    {
      "cell_type": "code",
      "source": [
        "size(mydf,1)"
      ],
      "metadata": {
        "colab": {
          "base_uri": "https://localhost:8080/"
        },
        "id": "3VW34ps9mIsN",
        "outputId": "bbef30da-73c8-4e55-a59e-0498e0986127"
      },
      "execution_count": 52,
      "outputs": [
        {
          "output_type": "execute_result",
          "data": {
            "text/plain": [
              "3"
            ]
          },
          "metadata": {},
          "execution_count": 52
        }
      ]
    },
    {
      "cell_type": "code",
      "source": [
        "size(mydf,2)"
      ],
      "metadata": {
        "colab": {
          "base_uri": "https://localhost:8080/"
        },
        "id": "SrIdKcRCmIyS",
        "outputId": "9bf0fd61-b9c7-4850-98e4-8ab8587ba6e2"
      },
      "execution_count": 53,
      "outputs": [
        {
          "output_type": "execute_result",
          "data": {
            "text/plain": [
              "4"
            ]
          },
          "metadata": {},
          "execution_count": 53
        }
      ]
    },
    {
      "cell_type": "code",
      "source": [
        "nrow(mydf)"
      ],
      "metadata": {
        "colab": {
          "base_uri": "https://localhost:8080/"
        },
        "id": "_6jq-6FJmI1J",
        "outputId": "4658a811-3248-449e-f678-db100148a5a6"
      },
      "execution_count": 54,
      "outputs": [
        {
          "output_type": "execute_result",
          "data": {
            "text/plain": [
              "3"
            ]
          },
          "metadata": {},
          "execution_count": 54
        }
      ]
    },
    {
      "cell_type": "code",
      "source": [
        "ncol(mydf)"
      ],
      "metadata": {
        "colab": {
          "base_uri": "https://localhost:8080/"
        },
        "id": "wC3B1Z4_mI3b",
        "outputId": "63192adc-ced3-48b2-f3d4-4650f685ce74"
      },
      "execution_count": 55,
      "outputs": [
        {
          "output_type": "execute_result",
          "data": {
            "text/plain": [
              "4"
            ]
          },
          "metadata": {},
          "execution_count": 55
        }
      ]
    },
    {
      "cell_type": "code",
      "source": [
        "first(mydf, 2) #show the first 2 rows"
      ],
      "metadata": {
        "colab": {
          "base_uri": "https://localhost:8080/",
          "height": 134
        },
        "id": "kcddZJ82mI5V",
        "outputId": "34486878-21cb-480e-a51a-04e46deffd07"
      },
      "execution_count": 56,
      "outputs": [
        {
          "output_type": "execute_result",
          "data": {
            "text/plain": [
              "\u001b[1m2×4 DataFrame\u001b[0m\n",
              "\u001b[1m Row \u001b[0m│\u001b[1m ID     \u001b[0m\u001b[1m y         \u001b[0m\u001b[1m m1      \u001b[0m\u001b[1m m2      \u001b[0m\n",
              "\u001b[1m     \u001b[0m│\u001b[90m String \u001b[0m\u001b[90m Float64   \u001b[0m\u001b[90m Float64 \u001b[0m\u001b[90m Float64 \u001b[0m\n",
              "─────┼─────────────────────────────────────\n",
              "   1 │ ind1    -0.687928      0.0      2.0\n",
              "   2 │ ind2    -1.94105       1.0      2.0"
            ],
            "text/html": [
              "<table class=\"data-frame\"><thead><tr><th></th><th>ID</th><th>y</th><th>m1</th><th>m2</th></tr><tr><th></th><th>String</th><th>Float64</th><th>Float64</th><th>Float64</th></tr></thead><tbody><p>2 rows × 4 columns</p><tr><th>1</th><td>ind1</td><td>-0.687928</td><td>0.0</td><td>2.0</td></tr><tr><th>2</th><td>ind2</td><td>-1.94105</td><td>1.0</td><td>2.0</td></tr></tbody></table>"
            ],
            "text/latex": "\\begin{tabular}{r|cccc}\n\t& ID & y & m1 & m2\\\\\n\t\\hline\n\t& String & Float64 & Float64 & Float64\\\\\n\t\\hline\n\t1 & ind1 & -0.687928 & 0.0 & 2.0 \\\\\n\t2 & ind2 & -1.94105 & 1.0 & 2.0 \\\\\n\\end{tabular}\n"
          },
          "metadata": {},
          "execution_count": 56
        }
      ]
    },
    {
      "cell_type": "code",
      "source": [
        "last(mydf, 3) #show the last 3 rows"
      ],
      "metadata": {
        "colab": {
          "base_uri": "https://localhost:8080/",
          "height": 155
        },
        "id": "O3mukLL2mi4g",
        "outputId": "ff638934-1dbc-49fc-c4e2-0f1099a0db91"
      },
      "execution_count": 57,
      "outputs": [
        {
          "output_type": "execute_result",
          "data": {
            "text/plain": [
              "\u001b[1m3×4 DataFrame\u001b[0m\n",
              "\u001b[1m Row \u001b[0m│\u001b[1m ID     \u001b[0m\u001b[1m y         \u001b[0m\u001b[1m m1      \u001b[0m\u001b[1m m2      \u001b[0m\n",
              "\u001b[1m     \u001b[0m│\u001b[90m String \u001b[0m\u001b[90m Float64   \u001b[0m\u001b[90m Float64 \u001b[0m\u001b[90m Float64 \u001b[0m\n",
              "─────┼─────────────────────────────────────\n",
              "   1 │ ind1    -0.687928      0.0      2.0\n",
              "   2 │ ind2    -1.94105       1.0      2.0\n",
              "   3 │ ind3     0.476903      2.0      1.0"
            ],
            "text/html": [
              "<table class=\"data-frame\"><thead><tr><th></th><th>ID</th><th>y</th><th>m1</th><th>m2</th></tr><tr><th></th><th>String</th><th>Float64</th><th>Float64</th><th>Float64</th></tr></thead><tbody><p>3 rows × 4 columns</p><tr><th>1</th><td>ind1</td><td>-0.687928</td><td>0.0</td><td>2.0</td></tr><tr><th>2</th><td>ind2</td><td>-1.94105</td><td>1.0</td><td>2.0</td></tr><tr><th>3</th><td>ind3</td><td>0.476903</td><td>2.0</td><td>1.0</td></tr></tbody></table>"
            ],
            "text/latex": "\\begin{tabular}{r|cccc}\n\t& ID & y & m1 & m2\\\\\n\t\\hline\n\t& String & Float64 & Float64 & Float64\\\\\n\t\\hline\n\t1 & ind1 & -0.687928 & 0.0 & 2.0 \\\\\n\t2 & ind2 & -1.94105 & 1.0 & 2.0 \\\\\n\t3 & ind3 & 0.476903 & 2.0 & 1.0 \\\\\n\\end{tabular}\n"
          },
          "metadata": {},
          "execution_count": 57
        }
      ]
    }
  ],
  "metadata": {
    "colab": {
      "collapsed_sections": [],
      "name": "tianjing_DataFrame.ipynb",
      "provenance": [],
      "machine_shape": "hm",
      "toc_visible": true
    },
    "kernelspec": {
      "display_name": "Julia",
      "language": "julia",
      "name": "julia"
    },
    "language_info": {
      "file_extension": ".jl",
      "mimetype": "application/julia",
      "name": "julia"
    },
    "gpuClass": "standard"
  },
  "nbformat": 4,
  "nbformat_minor": 0
}