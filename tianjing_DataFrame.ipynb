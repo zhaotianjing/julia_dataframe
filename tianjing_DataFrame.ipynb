{
  "cells": [
    {
      "cell_type": "markdown",
      "source": [
        ""
      ],
      "metadata": {
        "id": "FobrBU49U_G3"
      }
    },
    {
      "cell_type": "markdown",
      "metadata": {
        "id": "tQ1r1bbb0yBv"
      },
      "source": [
        "# <img src=\"https://github.com/JuliaLang/julia-logo-graphics/raw/master/images/julia-logo-color.png\" height=\"100\" /> _for Pythonistas_\n",
        "\n",
        "> TL;DR: _Julia looks and feels a lot like Python, only much faster. It's dynamic, expressive, extensible, with batteries included, in particular for Data Science_.\n",
        "\n",
        "This notebook is an **introduction to Julia for Python programmers**.\n",
        "\n",
        "It will go through the most important Python features (such as functions, basic types, list comprehensions, exceptions, generators, modules, packages, and so on) and show you how to code them in Julia."
      ]
    },
    {
      "cell_type": "markdown",
      "metadata": {
        "id": "6ew60wXrZM0W"
      },
      "source": [
        "## Running on Google Colab\n",
        "1. Work on a copy of this notebook: _File_ > _Save a copy in Drive_ (you will need a Google account). Alternatively, you can download the notebook using _File_ > _Download .ipynb_, then upload it to [Colab](https://colab.research.google.com/).\n",
        "2. Execute the following cell (click on it and press Ctrl+Enter) to install Julia, IJulia (the Jupyter kernel for Julia) and other packages. You can update `JULIA_VERSION` and the other parameters, if you know what you're doing. Installation takes 2-3 minutes.\n",
        "3. Reload this page (press Ctrl+R, or ⌘+R, or the F5 key) and continue to the _Checking the Installation_ section.\n",
        "\n",
        "* _Note_: If your Colab Runtime gets reset (e.g., due to inactivity), repeat steps 2 and 3."
      ]
    },
    {
      "cell_type": "code",
      "execution_count": null,
      "metadata": {
        "colab": {
          "base_uri": "https://localhost:8080/"
        },
        "id": "GIeFXS0F0zww",
        "outputId": "922df680-20c3-4cd6-c02b-a4373f842dd4"
      },
      "outputs": [
        {
          "output_type": "stream",
          "name": "stdout",
          "text": [
            "Installing Julia 1.7.1 on the current Colab Runtime...\n",
            "2022-07-18 23:25:02 URL:https://storage.googleapis.com/julialang2/bin/linux/x64/1.7/julia-1.7.1-linux-x86_64.tar.gz [123374573/123374573] -> \"/tmp/julia.tar.gz\" [1]\n",
            "Installing Julia package IJulia...\n",
            "Installing Julia package CSV...\n",
            "Installing Julia package DataFrames...\n",
            "Installing Julia package JWAS...\n",
            "Installing Julia package Random...\n",
            "Installing Julia package Statistics...\n",
            "Installing IJulia kernel...\n",
            "\u001b[36m\u001b[1m[ \u001b[22m\u001b[39m\u001b[36m\u001b[1mInfo: \u001b[22m\u001b[39mInstalling julia kernelspec in /root/.local/share/jupyter/kernels/julia-1.7\n",
            "\n",
            "Successfully installed julia version 1.7.1!\n",
            "Please reload this page (press Ctrl+R, ⌘+R, or the F5 key) then\n",
            "jump to the 'Checking the Installation' section.\n"
          ]
        },
        {
          "output_type": "execute_result",
          "data": {
            "text/plain": [
              ""
            ]
          },
          "metadata": {},
          "execution_count": 1
        }
      ],
      "source": [
        "%%shell\n",
        "set -e\n",
        "\n",
        "#---------------------------------------------------#\n",
        "JULIA_VERSION=\"1.7.1\" # any version ≥ 0.7.0\n",
        "JULIA_PACKAGES=\"IJulia CSV DataFrames JWAS Random Statistics\"  # Install packages\n",
        "JULIA_PACKAGES_IF_GPU=\"CUDA\"\n",
        "JULIA_NUM_THREADS=4\n",
        "#---------------------------------------------------#\n",
        "\n",
        "if [ -n \"$COLAB_GPU\" ] && [ -z `which julia` ]; then\n",
        "  # Install Julia\n",
        "  JULIA_VER=`cut -d '.' -f -2 <<< \"$JULIA_VERSION\"`\n",
        "  echo \"Installing Julia $JULIA_VERSION on the current Colab Runtime...\"\n",
        "  BASE_URL=\"https://julialang-s3.julialang.org/bin/linux/x64\"\n",
        "  URL=\"$BASE_URL/$JULIA_VER/julia-$JULIA_VERSION-linux-x86_64.tar.gz\"\n",
        "  wget -nv $URL -O /tmp/julia.tar.gz # -nv means \"not verbose\"\n",
        "  tar -x -f /tmp/julia.tar.gz -C /usr/local --strip-components 1\n",
        "  rm /tmp/julia.tar.gz\n",
        "\n",
        "  # Install Packages\n",
        "  if [ \"$COLAB_GPU\" = \"1\" ]; then\n",
        "      JULIA_PACKAGES=\"$JULIA_PACKAGES $JULIA_PACKAGES_IF_GPU\"\n",
        "  fi\n",
        "  for PKG in `echo $JULIA_PACKAGES`; do\n",
        "    echo \"Installing Julia package $PKG...\"\n",
        "    julia -e 'using Pkg; pkg\"add '$PKG'; precompile;\"' &> /dev/null\n",
        "  done\n",
        "\n",
        "  # Install kernel and rename it to \"julia\"\n",
        "  echo \"Installing IJulia kernel...\"\n",
        "  julia -e 'using IJulia; IJulia.installkernel(\"julia\", env=Dict(\n",
        "      \"JULIA_NUM_THREADS\"=>\"'\"$JULIA_NUM_THREADS\"'\"))'\n",
        "  KERNEL_DIR=`julia -e \"using IJulia; print(IJulia.kerneldir())\"`\n",
        "  KERNEL_NAME=`ls -d \"$KERNEL_DIR\"/julia*`\n",
        "  mv -f $KERNEL_NAME \"$KERNEL_DIR\"/julia  \n",
        "\n",
        "  echo ''\n",
        "  echo \"Successfully installed `julia -v`!\"\n",
        "  echo \"Please reload this page (press Ctrl+R, ⌘+R, or the F5 key) then\"\n",
        "  echo \"jump to the 'Checking the Installation' section.\"\n",
        "fi"
      ]
    },
    {
      "cell_type": "markdown",
      "metadata": {
        "id": "-OS3Ac017T1i"
      },
      "source": [
        "## Checking the Installation\n",
        "The `versioninfo()` function should print your Julia version and some other info about the system (if you ever ask for help or file an issue about Julia, you should always provide this information)."
      ]
    },
    {
      "cell_type": "code",
      "execution_count": 1,
      "metadata": {
        "colab": {
          "base_uri": "https://localhost:8080/"
        },
        "id": "EEzvvzCl1i0F",
        "outputId": "9ada1006-96b9-4c37-a2c8-6952367c0bd9"
      },
      "outputs": [
        {
          "output_type": "stream",
          "name": "stdout",
          "text": [
            "Julia Version 1.7.1\n",
            "Commit ac5cc99908 (2021-12-22 19:35 UTC)\n",
            "Platform Info:\n",
            "  OS: Linux (x86_64-pc-linux-gnu)\n",
            "  CPU: Intel(R) Xeon(R) CPU @ 2.20GHz\n",
            "  WORD_SIZE: 64\n",
            "  LIBM: libopenlibm\n",
            "  LLVM: libLLVM-12.0.1 (ORCJIT, broadwell)\n",
            "Environment:\n",
            "  JULIA_NUM_THREADS = 4\n"
          ]
        }
      ],
      "source": [
        "versioninfo()"
      ]
    },
    {
      "cell_type": "code",
      "source": [
        "using Pkg;Pkg.status()"
      ],
      "metadata": {
        "colab": {
          "base_uri": "https://localhost:8080/"
        },
        "id": "Yc9tUePRWgDV",
        "outputId": "4bbdee9f-e08b-435f-dd6a-21a8b7257e36"
      },
      "execution_count": 2,
      "outputs": [
        {
          "output_type": "stream",
          "name": "stdout",
          "text": [
            "\u001b[32m\u001b[1m      Status\u001b[22m\u001b[39m `~/.julia/environments/v1.7/Project.toml`\n",
            " \u001b[90m [336ed68f] \u001b[39mCSV v0.8.5\n",
            " \u001b[90m [a93c6f00] \u001b[39mDataFrames v0.22.7\n",
            " \u001b[90m [7073ff75] \u001b[39mIJulia v1.23.3\n",
            " \u001b[90m [c9a035f4] \u001b[39mJWAS v1.1.2\n",
            " \u001b[90m [9a3f8284] \u001b[39mRandom\n",
            " \u001b[90m [10745b16] \u001b[39mStatistics\n"
          ]
        }
      ]
    },
    {
      "cell_type": "markdown",
      "metadata": {
        "id": "tBKp4lciICdi"
      },
      "source": [
        "# 1. Working with DataFrames"
      ]
    },
    {
      "cell_type": "code",
      "source": [
        "using DataFrames, CSV"
      ],
      "metadata": {
        "id": "-7UZDysOZBS6"
      },
      "execution_count": 3,
      "outputs": []
    },
    {
      "cell_type": "markdown",
      "source": [
        "## 1.1 Create a `DataFrame`"
      ],
      "metadata": {
        "id": "L4mPDsQ0Ym1j"
      }
    },
    {
      "cell_type": "code",
      "source": [
        "mydf = DataFrame(ID=1:3, y=randn(3), m1=[0.0,1.0,2.0],m2=[2.0,2.0,1.0])"
      ],
      "metadata": {
        "colab": {
          "base_uri": "https://localhost:8080/",
          "height": 155
        },
        "id": "Rsw7n3NnYwrK",
        "outputId": "5dfdef0d-0335-45d5-b8c9-ffe96848fdac"
      },
      "execution_count": 4,
      "outputs": [
        {
          "output_type": "execute_result",
          "data": {
            "text/plain": [
              "\u001b[1m3×4 DataFrame\u001b[0m\n",
              "\u001b[1m Row \u001b[0m│\u001b[1m ID    \u001b[0m\u001b[1m y         \u001b[0m\u001b[1m m1      \u001b[0m\u001b[1m m2      \u001b[0m\n",
              "\u001b[1m     \u001b[0m│\u001b[90m Int64 \u001b[0m\u001b[90m Float64   \u001b[0m\u001b[90m Float64 \u001b[0m\u001b[90m Float64 \u001b[0m\n",
              "─────┼────────────────────────────────────\n",
              "   1 │     1   0.888445      0.0      2.0\n",
              "   2 │     2   0.078831      1.0      2.0\n",
              "   3 │     3  -0.965671      2.0      1.0"
            ],
            "text/html": [
              "<table class=\"data-frame\"><thead><tr><th></th><th>ID</th><th>y</th><th>m1</th><th>m2</th></tr><tr><th></th><th>Int64</th><th>Float64</th><th>Float64</th><th>Float64</th></tr></thead><tbody><p>3 rows × 4 columns</p><tr><th>1</th><td>1</td><td>0.888445</td><td>0.0</td><td>2.0</td></tr><tr><th>2</th><td>2</td><td>0.078831</td><td>1.0</td><td>2.0</td></tr><tr><th>3</th><td>3</td><td>-0.965671</td><td>2.0</td><td>1.0</td></tr></tbody></table>"
            ],
            "text/latex": "\\begin{tabular}{r|cccc}\n\t& ID & y & m1 & m2\\\\\n\t\\hline\n\t& Int64 & Float64 & Float64 & Float64\\\\\n\t\\hline\n\t1 & 1 & 0.888445 & 0.0 & 2.0 \\\\\n\t2 & 2 & 0.078831 & 1.0 & 2.0 \\\\\n\t3 & 3 & -0.965671 & 2.0 & 1.0 \\\\\n\\end{tabular}\n"
          },
          "metadata": {},
          "execution_count": 4
        }
      ]
    },
    {
      "cell_type": "markdown",
      "source": [
        "Or you can create a `DataFrame` from a matix:"
      ],
      "metadata": {
        "id": "1nNxp5qMfEAW"
      }
    },
    {
      "cell_type": "code",
      "source": [
        "m=[0.0 2.0\n",
        "   1.0 2.0\n",
        "   2.0 1.0]\n",
        "dfnames=[\"m1\",\"m2\"]\n",
        "mydf = DataFrame(m,dfnames)"
      ],
      "metadata": {
        "colab": {
          "base_uri": "https://localhost:8080/",
          "height": 155
        },
        "id": "GObomOwpfLQD",
        "outputId": "a5105a6d-6f6b-46c9-a192-d60c6d361d71"
      },
      "execution_count": 5,
      "outputs": [
        {
          "output_type": "execute_result",
          "data": {
            "text/plain": [
              "\u001b[1m3×2 DataFrame\u001b[0m\n",
              "\u001b[1m Row \u001b[0m│\u001b[1m m1      \u001b[0m\u001b[1m m2      \u001b[0m\n",
              "\u001b[1m     \u001b[0m│\u001b[90m Float64 \u001b[0m\u001b[90m Float64 \u001b[0m\n",
              "─────┼──────────────────\n",
              "   1 │     0.0      2.0\n",
              "   2 │     1.0      2.0\n",
              "   3 │     2.0      1.0"
            ],
            "text/html": [
              "<table class=\"data-frame\"><thead><tr><th></th><th>m1</th><th>m2</th></tr><tr><th></th><th>Float64</th><th>Float64</th></tr></thead><tbody><p>3 rows × 2 columns</p><tr><th>1</th><td>0.0</td><td>2.0</td></tr><tr><th>2</th><td>1.0</td><td>2.0</td></tr><tr><th>3</th><td>2.0</td><td>1.0</td></tr></tbody></table>"
            ],
            "text/latex": "\\begin{tabular}{r|cc}\n\t& m1 & m2\\\\\n\t\\hline\n\t& Float64 & Float64\\\\\n\t\\hline\n\t1 & 0.0 & 2.0 \\\\\n\t2 & 1.0 & 2.0 \\\\\n\t3 & 2.0 & 1.0 \\\\\n\\end{tabular}\n"
          },
          "metadata": {},
          "execution_count": 5
        }
      ]
    },
    {
      "cell_type": "markdown",
      "source": [
        "## 1.2 Insert columns into a `DataFrame`:"
      ],
      "metadata": {
        "id": "wfRL1MnAf0gT"
      }
    },
    {
      "cell_type": "code",
      "source": [
        "insertcols!(mydf, 1, :ID => 1:3) #1 means the 1st column"
      ],
      "metadata": {
        "colab": {
          "base_uri": "https://localhost:8080/",
          "height": 155
        },
        "id": "WXPmiyYLf1VP",
        "outputId": "d38d1371-fdd8-43ea-d003-14bb1e624ecb"
      },
      "execution_count": 6,
      "outputs": [
        {
          "output_type": "execute_result",
          "data": {
            "text/plain": [
              "\u001b[1m3×3 DataFrame\u001b[0m\n",
              "\u001b[1m Row \u001b[0m│\u001b[1m ID    \u001b[0m\u001b[1m m1      \u001b[0m\u001b[1m m2      \u001b[0m\n",
              "\u001b[1m     \u001b[0m│\u001b[90m Int64 \u001b[0m\u001b[90m Float64 \u001b[0m\u001b[90m Float64 \u001b[0m\n",
              "─────┼─────────────────────────\n",
              "   1 │     1      0.0      2.0\n",
              "   2 │     2      1.0      2.0\n",
              "   3 │     3      2.0      1.0"
            ],
            "text/html": [
              "<table class=\"data-frame\"><thead><tr><th></th><th>ID</th><th>m1</th><th>m2</th></tr><tr><th></th><th>Int64</th><th>Float64</th><th>Float64</th></tr></thead><tbody><p>3 rows × 3 columns</p><tr><th>1</th><td>1</td><td>0.0</td><td>2.0</td></tr><tr><th>2</th><td>2</td><td>1.0</td><td>2.0</td></tr><tr><th>3</th><td>3</td><td>2.0</td><td>1.0</td></tr></tbody></table>"
            ],
            "text/latex": "\\begin{tabular}{r|ccc}\n\t& ID & m1 & m2\\\\\n\t\\hline\n\t& Int64 & Float64 & Float64\\\\\n\t\\hline\n\t1 & 1 & 0.0 & 2.0 \\\\\n\t2 & 2 & 1.0 & 2.0 \\\\\n\t3 & 3 & 2.0 & 1.0 \\\\\n\\end{tabular}\n"
          },
          "metadata": {},
          "execution_count": 6
        }
      ]
    },
    {
      "cell_type": "code",
      "source": [
        "insertcols!(mydf, 2, :y => randn(3)) #2 means the 2nd column"
      ],
      "metadata": {
        "colab": {
          "base_uri": "https://localhost:8080/",
          "height": 155
        },
        "id": "tyuDnLHvgLqH",
        "outputId": "20278b24-4fa2-4ed6-83d0-af225dfea0bf"
      },
      "execution_count": 7,
      "outputs": [
        {
          "output_type": "execute_result",
          "data": {
            "text/plain": [
              "\u001b[1m3×4 DataFrame\u001b[0m\n",
              "\u001b[1m Row \u001b[0m│\u001b[1m ID    \u001b[0m\u001b[1m y        \u001b[0m\u001b[1m m1      \u001b[0m\u001b[1m m2      \u001b[0m\n",
              "\u001b[1m     \u001b[0m│\u001b[90m Int64 \u001b[0m\u001b[90m Float64  \u001b[0m\u001b[90m Float64 \u001b[0m\u001b[90m Float64 \u001b[0m\n",
              "─────┼───────────────────────────────────\n",
              "   1 │     1  0.917462      0.0      2.0\n",
              "   2 │     2  1.1245        1.0      2.0\n",
              "   3 │     3  1.1446        2.0      1.0"
            ],
            "text/html": [
              "<table class=\"data-frame\"><thead><tr><th></th><th>ID</th><th>y</th><th>m1</th><th>m2</th></tr><tr><th></th><th>Int64</th><th>Float64</th><th>Float64</th><th>Float64</th></tr></thead><tbody><p>3 rows × 4 columns</p><tr><th>1</th><td>1</td><td>0.917462</td><td>0.0</td><td>2.0</td></tr><tr><th>2</th><td>2</td><td>1.1245</td><td>1.0</td><td>2.0</td></tr><tr><th>3</th><td>3</td><td>1.1446</td><td>2.0</td><td>1.0</td></tr></tbody></table>"
            ],
            "text/latex": "\\begin{tabular}{r|cccc}\n\t& ID & y & m1 & m2\\\\\n\t\\hline\n\t& Int64 & Float64 & Float64 & Float64\\\\\n\t\\hline\n\t1 & 1 & 0.917462 & 0.0 & 2.0 \\\\\n\t2 & 2 & 1.1245 & 1.0 & 2.0 \\\\\n\t3 & 3 & 1.1446 & 2.0 & 1.0 \\\\\n\\end{tabular}\n"
          },
          "metadata": {},
          "execution_count": 7
        }
      ]
    },
    {
      "cell_type": "markdown",
      "source": [
        "## 1.3 change type of a column"
      ],
      "metadata": {
        "id": "Q96Gnc7JgbSk"
      }
    },
    {
      "cell_type": "code",
      "source": [
        "mydf[!,:ID] = string.(mydf[!,:ID]) #change from Int64 to string"
      ],
      "metadata": {
        "colab": {
          "base_uri": "https://localhost:8080/"
        },
        "id": "sd5jF1kcggjD",
        "outputId": "3182b85d-b1f2-4ae8-b17a-c5cf0bf3a963"
      },
      "execution_count": 8,
      "outputs": [
        {
          "output_type": "execute_result",
          "data": {
            "text/plain": [
              "3-element Vector{String}:\n",
              " \"1\"\n",
              " \"2\"\n",
              " \"3\""
            ]
          },
          "metadata": {},
          "execution_count": 8
        }
      ]
    },
    {
      "cell_type": "code",
      "source": [
        "mydf"
      ],
      "metadata": {
        "colab": {
          "base_uri": "https://localhost:8080/",
          "height": 155
        },
        "id": "Bf_zG02mgoiP",
        "outputId": "8103883d-d675-4862-8402-7d1d2ac6f79a"
      },
      "execution_count": 9,
      "outputs": [
        {
          "output_type": "execute_result",
          "data": {
            "text/plain": [
              "\u001b[1m3×4 DataFrame\u001b[0m\n",
              "\u001b[1m Row \u001b[0m│\u001b[1m ID     \u001b[0m\u001b[1m y        \u001b[0m\u001b[1m m1      \u001b[0m\u001b[1m m2      \u001b[0m\n",
              "\u001b[1m     \u001b[0m│\u001b[90m String \u001b[0m\u001b[90m Float64  \u001b[0m\u001b[90m Float64 \u001b[0m\u001b[90m Float64 \u001b[0m\n",
              "─────┼────────────────────────────────────\n",
              "   1 │ 1       0.917462      0.0      2.0\n",
              "   2 │ 2       1.1245        1.0      2.0\n",
              "   3 │ 3       1.1446        2.0      1.0"
            ],
            "text/html": [
              "<table class=\"data-frame\"><thead><tr><th></th><th>ID</th><th>y</th><th>m1</th><th>m2</th></tr><tr><th></th><th>String</th><th>Float64</th><th>Float64</th><th>Float64</th></tr></thead><tbody><p>3 rows × 4 columns</p><tr><th>1</th><td>1</td><td>0.917462</td><td>0.0</td><td>2.0</td></tr><tr><th>2</th><td>2</td><td>1.1245</td><td>1.0</td><td>2.0</td></tr><tr><th>3</th><td>3</td><td>1.1446</td><td>2.0</td><td>1.0</td></tr></tbody></table>"
            ],
            "text/latex": "\\begin{tabular}{r|cccc}\n\t& ID & y & m1 & m2\\\\\n\t\\hline\n\t& String & Float64 & Float64 & Float64\\\\\n\t\\hline\n\t1 & 1 & 0.917462 & 0.0 & 2.0 \\\\\n\t2 & 2 & 1.1245 & 1.0 & 2.0 \\\\\n\t3 & 3 & 1.1446 & 2.0 & 1.0 \\\\\n\\end{tabular}\n"
          },
          "metadata": {},
          "execution_count": 9
        }
      ]
    },
    {
      "cell_type": "markdown",
      "source": [
        "## 1.4 Save a `DataFrame` as a CSV file"
      ],
      "metadata": {
        "id": "D4r8irgxgvPm"
      }
    },
    {
      "cell_type": "code",
      "source": [
        "CSV.write(\"test.csv\", mydf)"
      ],
      "metadata": {
        "colab": {
          "base_uri": "https://localhost:8080/"
        },
        "id": "pd5hpu1Mg0gK",
        "outputId": "a0b46915-dc26-43b4-92be-0f8097b17315"
      },
      "execution_count": 10,
      "outputs": [
        {
          "output_type": "execute_result",
          "data": {
            "text/plain": [
              "\"test.csv\""
            ]
          },
          "metadata": {},
          "execution_count": 10
        }
      ]
    },
    {
      "cell_type": "markdown",
      "source": [
        "## 1.5 Read data from CSV files as `DataFrame`"
      ],
      "metadata": {
        "id": "0NkwLTJjhMgS"
      }
    },
    {
      "cell_type": "code",
      "source": [
        "mydf=CSV.read(\"test.csv\",DataFrame)\n",
        "mydf[!,:ID] = string.(mydf[!,:ID]);\n",
        "mydf"
      ],
      "metadata": {
        "colab": {
          "base_uri": "https://localhost:8080/",
          "height": 155
        },
        "id": "w51kD93ThTSE",
        "outputId": "b2e2b62a-6d0c-4e4c-83dd-efd96df570fc"
      },
      "execution_count": 11,
      "outputs": [
        {
          "output_type": "execute_result",
          "data": {
            "text/plain": [
              "\u001b[1m3×4 DataFrame\u001b[0m\n",
              "\u001b[1m Row \u001b[0m│\u001b[1m ID     \u001b[0m\u001b[1m y        \u001b[0m\u001b[1m m1      \u001b[0m\u001b[1m m2      \u001b[0m\n",
              "\u001b[1m     \u001b[0m│\u001b[90m String \u001b[0m\u001b[90m Float64  \u001b[0m\u001b[90m Float64 \u001b[0m\u001b[90m Float64 \u001b[0m\n",
              "─────┼────────────────────────────────────\n",
              "   1 │ 1       0.917462      0.0      2.0\n",
              "   2 │ 2       1.1245        1.0      2.0\n",
              "   3 │ 3       1.1446        2.0      1.0"
            ],
            "text/html": [
              "<table class=\"data-frame\"><thead><tr><th></th><th>ID</th><th>y</th><th>m1</th><th>m2</th></tr><tr><th></th><th>String</th><th>Float64</th><th>Float64</th><th>Float64</th></tr></thead><tbody><p>3 rows × 4 columns</p><tr><th>1</th><td>1</td><td>0.917462</td><td>0.0</td><td>2.0</td></tr><tr><th>2</th><td>2</td><td>1.1245</td><td>1.0</td><td>2.0</td></tr><tr><th>3</th><td>3</td><td>1.1446</td><td>2.0</td><td>1.0</td></tr></tbody></table>"
            ],
            "text/latex": "\\begin{tabular}{r|cccc}\n\t& ID & y & m1 & m2\\\\\n\t\\hline\n\t& String & Float64 & Float64 & Float64\\\\\n\t\\hline\n\t1 & 1 & 0.917462 & 0.0 & 2.0 \\\\\n\t2 & 2 & 1.1245 & 1.0 & 2.0 \\\\\n\t3 & 3 & 1.1446 & 2.0 & 1.0 \\\\\n\\end{tabular}\n"
          },
          "metadata": {},
          "execution_count": 11
        }
      ]
    },
    {
      "cell_type": "markdown",
      "source": [
        "more options can be found in the documentation (run `?CSV.File()`)"
      ],
      "metadata": {
        "id": "jpauEj28hh3v"
      }
    },
    {
      "cell_type": "markdown",
      "source": [
        "## 1.6 Access the columns of a data frame without copying "
      ],
      "metadata": {
        "id": "Ywz0CFmSj2ql"
      }
    },
    {
      "cell_type": "code",
      "source": [
        "mydf[!,\"ID\"]"
      ],
      "metadata": {
        "colab": {
          "base_uri": "https://localhost:8080/"
        },
        "id": "h5ek2VY3j195",
        "outputId": "dbf7418d-7d0e-43a6-ca19-85f3970ec561"
      },
      "execution_count": 12,
      "outputs": [
        {
          "output_type": "execute_result",
          "data": {
            "text/plain": [
              "3-element Vector{String}:\n",
              " \"1\"\n",
              " \"2\"\n",
              " \"3\""
            ]
          },
          "metadata": {},
          "execution_count": 12
        }
      ]
    },
    {
      "cell_type": "code",
      "source": [
        "mydf[!,1:2]"
      ],
      "metadata": {
        "colab": {
          "base_uri": "https://localhost:8080/",
          "height": 155
        },
        "id": "HJBbd1l8juL3",
        "outputId": "56a334c6-ad7f-438b-bb36-6f297e14ebdc"
      },
      "execution_count": 13,
      "outputs": [
        {
          "output_type": "execute_result",
          "data": {
            "text/plain": [
              "\u001b[1m3×2 DataFrame\u001b[0m\n",
              "\u001b[1m Row \u001b[0m│\u001b[1m ID     \u001b[0m\u001b[1m y        \u001b[0m\n",
              "\u001b[1m     \u001b[0m│\u001b[90m String \u001b[0m\u001b[90m Float64  \u001b[0m\n",
              "─────┼──────────────────\n",
              "   1 │ 1       0.917462\n",
              "   2 │ 2       1.1245\n",
              "   3 │ 3       1.1446"
            ],
            "text/html": [
              "<table class=\"data-frame\"><thead><tr><th></th><th>ID</th><th>y</th></tr><tr><th></th><th>String</th><th>Float64</th></tr></thead><tbody><p>3 rows × 2 columns</p><tr><th>1</th><td>1</td><td>0.917462</td></tr><tr><th>2</th><td>2</td><td>1.1245</td></tr><tr><th>3</th><td>3</td><td>1.1446</td></tr></tbody></table>"
            ],
            "text/latex": "\\begin{tabular}{r|cc}\n\t& ID & y\\\\\n\t\\hline\n\t& String & Float64\\\\\n\t\\hline\n\t1 & 1 & 0.917462 \\\\\n\t2 & 2 & 1.1245 \\\\\n\t3 & 3 & 1.1446 \\\\\n\\end{tabular}\n"
          },
          "metadata": {},
          "execution_count": 13
        }
      ]
    },
    {
      "cell_type": "code",
      "source": [
        "mydf[!,[:ID,:y]]"
      ],
      "metadata": {
        "colab": {
          "base_uri": "https://localhost:8080/",
          "height": 155
        },
        "id": "uy0d5KFakJsj",
        "outputId": "cad00866-0436-40a7-f27f-3bc9fe357f7f"
      },
      "execution_count": 14,
      "outputs": [
        {
          "output_type": "execute_result",
          "data": {
            "text/plain": [
              "\u001b[1m3×2 DataFrame\u001b[0m\n",
              "\u001b[1m Row \u001b[0m│\u001b[1m ID     \u001b[0m\u001b[1m y        \u001b[0m\n",
              "\u001b[1m     \u001b[0m│\u001b[90m String \u001b[0m\u001b[90m Float64  \u001b[0m\n",
              "─────┼──────────────────\n",
              "   1 │ 1       0.917462\n",
              "   2 │ 2       1.1245\n",
              "   3 │ 3       1.1446"
            ],
            "text/html": [
              "<table class=\"data-frame\"><thead><tr><th></th><th>ID</th><th>y</th></tr><tr><th></th><th>String</th><th>Float64</th></tr></thead><tbody><p>3 rows × 2 columns</p><tr><th>1</th><td>1</td><td>0.917462</td></tr><tr><th>2</th><td>2</td><td>1.1245</td></tr><tr><th>3</th><td>3</td><td>1.1446</td></tr></tbody></table>"
            ],
            "text/latex": "\\begin{tabular}{r|cc}\n\t& ID & y\\\\\n\t\\hline\n\t& String & Float64\\\\\n\t\\hline\n\t1 & 1 & 0.917462 \\\\\n\t2 & 2 & 1.1245 \\\\\n\t3 & 3 & 1.1446 \\\\\n\\end{tabular}\n"
          },
          "metadata": {},
          "execution_count": 14
        }
      ]
    },
    {
      "cell_type": "code",
      "source": [
        "a=mydf[!,\"ID\"]\n",
        "a[1]=\"will change\";\n",
        "mydf"
      ],
      "metadata": {
        "colab": {
          "base_uri": "https://localhost:8080/",
          "height": 155
        },
        "id": "jfgSWq8uk0pa",
        "outputId": "cb0f3217-ab39-4b15-877c-63285dc6b0a0"
      },
      "execution_count": 15,
      "outputs": [
        {
          "output_type": "execute_result",
          "data": {
            "text/plain": [
              "\u001b[1m3×4 DataFrame\u001b[0m\n",
              "\u001b[1m Row \u001b[0m│\u001b[1m ID          \u001b[0m\u001b[1m y        \u001b[0m\u001b[1m m1      \u001b[0m\u001b[1m m2      \u001b[0m\n",
              "\u001b[1m     \u001b[0m│\u001b[90m String      \u001b[0m\u001b[90m Float64  \u001b[0m\u001b[90m Float64 \u001b[0m\u001b[90m Float64 \u001b[0m\n",
              "─────┼─────────────────────────────────────────\n",
              "   1 │ will change  0.917462      0.0      2.0\n",
              "   2 │ 2            1.1245        1.0      2.0\n",
              "   3 │ 3            1.1446        2.0      1.0"
            ],
            "text/html": [
              "<table class=\"data-frame\"><thead><tr><th></th><th>ID</th><th>y</th><th>m1</th><th>m2</th></tr><tr><th></th><th>String</th><th>Float64</th><th>Float64</th><th>Float64</th></tr></thead><tbody><p>3 rows × 4 columns</p><tr><th>1</th><td>will change</td><td>0.917462</td><td>0.0</td><td>2.0</td></tr><tr><th>2</th><td>2</td><td>1.1245</td><td>1.0</td><td>2.0</td></tr><tr><th>3</th><td>3</td><td>1.1446</td><td>2.0</td><td>1.0</td></tr></tbody></table>"
            ],
            "text/latex": "\\begin{tabular}{r|cccc}\n\t& ID & y & m1 & m2\\\\\n\t\\hline\n\t& String & Float64 & Float64 & Float64\\\\\n\t\\hline\n\t1 & will change & 0.917462 & 0.0 & 2.0 \\\\\n\t2 & 2 & 1.1245 & 1.0 & 2.0 \\\\\n\t3 & 3 & 1.1446 & 2.0 & 1.0 \\\\\n\\end{tabular}\n"
          },
          "metadata": {},
          "execution_count": 15
        }
      ]
    },
    {
      "cell_type": "markdown",
      "source": [
        "## 1.7 get a copy of the column"
      ],
      "metadata": {
        "id": "YacNXiGukPLf"
      }
    },
    {
      "cell_type": "code",
      "source": [
        "mydf[:,\"ID\"]"
      ],
      "metadata": {
        "colab": {
          "base_uri": "https://localhost:8080/"
        },
        "id": "O5NmjfCKkVPj",
        "outputId": "2adca9bf-17c0-4e1d-d2df-7e589a63a1e4"
      },
      "execution_count": 16,
      "outputs": [
        {
          "output_type": "execute_result",
          "data": {
            "text/plain": [
              "3-element Vector{String}:\n",
              " \"will change\"\n",
              " \"2\"\n",
              " \"3\""
            ]
          },
          "metadata": {},
          "execution_count": 16
        }
      ]
    },
    {
      "cell_type": "code",
      "source": [
        "mydf[:,1:2]"
      ],
      "metadata": {
        "colab": {
          "base_uri": "https://localhost:8080/",
          "height": 155
        },
        "id": "15mHhG9Akwwq",
        "outputId": "7ffda11b-e415-43f2-ace4-5fc9cb6f4dbb"
      },
      "execution_count": 17,
      "outputs": [
        {
          "output_type": "execute_result",
          "data": {
            "text/plain": [
              "\u001b[1m3×2 DataFrame\u001b[0m\n",
              "\u001b[1m Row \u001b[0m│\u001b[1m ID          \u001b[0m\u001b[1m y        \u001b[0m\n",
              "\u001b[1m     \u001b[0m│\u001b[90m String      \u001b[0m\u001b[90m Float64  \u001b[0m\n",
              "─────┼───────────────────────\n",
              "   1 │ will change  0.917462\n",
              "   2 │ 2            1.1245\n",
              "   3 │ 3            1.1446"
            ],
            "text/html": [
              "<table class=\"data-frame\"><thead><tr><th></th><th>ID</th><th>y</th></tr><tr><th></th><th>String</th><th>Float64</th></tr></thead><tbody><p>3 rows × 2 columns</p><tr><th>1</th><td>will change</td><td>0.917462</td></tr><tr><th>2</th><td>2</td><td>1.1245</td></tr><tr><th>3</th><td>3</td><td>1.1446</td></tr></tbody></table>"
            ],
            "text/latex": "\\begin{tabular}{r|cc}\n\t& ID & y\\\\\n\t\\hline\n\t& String & Float64\\\\\n\t\\hline\n\t1 & will change & 0.917462 \\\\\n\t2 & 2 & 1.1245 \\\\\n\t3 & 3 & 1.1446 \\\\\n\\end{tabular}\n"
          },
          "metadata": {},
          "execution_count": 17
        }
      ]
    },
    {
      "cell_type": "code",
      "source": [
        "a=mydf[:,\"ID\"]\n",
        "a[1]=\"this won't change\"; #will not change because a is the copy of the column\n",
        "mydf"
      ],
      "metadata": {
        "colab": {
          "base_uri": "https://localhost:8080/",
          "height": 155
        },
        "id": "_kaYkmMxlEej",
        "outputId": "c99a7287-94cc-4c58-df72-bf563c00609c"
      },
      "execution_count": 19,
      "outputs": [
        {
          "output_type": "execute_result",
          "data": {
            "text/plain": [
              "\u001b[1m3×4 DataFrame\u001b[0m\n",
              "\u001b[1m Row \u001b[0m│\u001b[1m ID          \u001b[0m\u001b[1m y        \u001b[0m\u001b[1m m1      \u001b[0m\u001b[1m m2      \u001b[0m\n",
              "\u001b[1m     \u001b[0m│\u001b[90m String      \u001b[0m\u001b[90m Float64  \u001b[0m\u001b[90m Float64 \u001b[0m\u001b[90m Float64 \u001b[0m\n",
              "─────┼─────────────────────────────────────────\n",
              "   1 │ will change  0.917462      0.0      2.0\n",
              "   2 │ 2            1.1245        1.0      2.0\n",
              "   3 │ 3            1.1446        2.0      1.0"
            ],
            "text/html": [
              "<table class=\"data-frame\"><thead><tr><th></th><th>ID</th><th>y</th><th>m1</th><th>m2</th></tr><tr><th></th><th>String</th><th>Float64</th><th>Float64</th><th>Float64</th></tr></thead><tbody><p>3 rows × 4 columns</p><tr><th>1</th><td>will change</td><td>0.917462</td><td>0.0</td><td>2.0</td></tr><tr><th>2</th><td>2</td><td>1.1245</td><td>1.0</td><td>2.0</td></tr><tr><th>3</th><td>3</td><td>1.1446</td><td>2.0</td><td>1.0</td></tr></tbody></table>"
            ],
            "text/latex": "\\begin{tabular}{r|cccc}\n\t& ID & y & m1 & m2\\\\\n\t\\hline\n\t& String & Float64 & Float64 & Float64\\\\\n\t\\hline\n\t1 & will change & 0.917462 & 0.0 & 2.0 \\\\\n\t2 & 2 & 1.1245 & 1.0 & 2.0 \\\\\n\t3 & 3 & 1.1446 & 2.0 & 1.0 \\\\\n\\end{tabular}\n"
          },
          "metadata": {},
          "execution_count": 19
        }
      ]
    },
    {
      "cell_type": "code",
      "source": [
        "mydf[:,:ID] = [\"a1\",\"a2\",\"a3\"]; #this will change the column\n",
        "mydf"
      ],
      "metadata": {
        "colab": {
          "base_uri": "https://localhost:8080/",
          "height": 155
        },
        "id": "GqHGglyvkjKP",
        "outputId": "e063a444-2e2f-493a-c8cb-2a9117f2c2f5"
      },
      "execution_count": 20,
      "outputs": [
        {
          "output_type": "execute_result",
          "data": {
            "text/plain": [
              "\u001b[1m3×4 DataFrame\u001b[0m\n",
              "\u001b[1m Row \u001b[0m│\u001b[1m ID     \u001b[0m\u001b[1m y        \u001b[0m\u001b[1m m1      \u001b[0m\u001b[1m m2      \u001b[0m\n",
              "\u001b[1m     \u001b[0m│\u001b[90m String \u001b[0m\u001b[90m Float64  \u001b[0m\u001b[90m Float64 \u001b[0m\u001b[90m Float64 \u001b[0m\n",
              "─────┼────────────────────────────────────\n",
              "   1 │ a1      0.917462      0.0      2.0\n",
              "   2 │ a2      1.1245        1.0      2.0\n",
              "   3 │ a3      1.1446        2.0      1.0"
            ],
            "text/html": [
              "<table class=\"data-frame\"><thead><tr><th></th><th>ID</th><th>y</th><th>m1</th><th>m2</th></tr><tr><th></th><th>String</th><th>Float64</th><th>Float64</th><th>Float64</th></tr></thead><tbody><p>3 rows × 4 columns</p><tr><th>1</th><td>a1</td><td>0.917462</td><td>0.0</td><td>2.0</td></tr><tr><th>2</th><td>a2</td><td>1.1245</td><td>1.0</td><td>2.0</td></tr><tr><th>3</th><td>a3</td><td>1.1446</td><td>2.0</td><td>1.0</td></tr></tbody></table>"
            ],
            "text/latex": "\\begin{tabular}{r|cccc}\n\t& ID & y & m1 & m2\\\\\n\t\\hline\n\t& String & Float64 & Float64 & Float64\\\\\n\t\\hline\n\t1 & a1 & 0.917462 & 0.0 & 2.0 \\\\\n\t2 & a2 & 1.1245 & 1.0 & 2.0 \\\\\n\t3 & a3 & 1.1446 & 2.0 & 1.0 \\\\\n\\end{tabular}\n"
          },
          "metadata": {},
          "execution_count": 20
        }
      ]
    },
    {
      "cell_type": "code",
      "source": [
        "mydf[!,:ID] = [\"ind1\",\"ind2\",\"ind3\"]; #this will change the column\n",
        "mydf"
      ],
      "metadata": {
        "colab": {
          "base_uri": "https://localhost:8080/",
          "height": 155
        },
        "id": "-Ejbzcz6lnlO",
        "outputId": "399b211a-4d57-4609-9c2c-7d5adb1eaaae"
      },
      "execution_count": 21,
      "outputs": [
        {
          "output_type": "execute_result",
          "data": {
            "text/plain": [
              "\u001b[1m3×4 DataFrame\u001b[0m\n",
              "\u001b[1m Row \u001b[0m│\u001b[1m ID     \u001b[0m\u001b[1m y        \u001b[0m\u001b[1m m1      \u001b[0m\u001b[1m m2      \u001b[0m\n",
              "\u001b[1m     \u001b[0m│\u001b[90m String \u001b[0m\u001b[90m Float64  \u001b[0m\u001b[90m Float64 \u001b[0m\u001b[90m Float64 \u001b[0m\n",
              "─────┼────────────────────────────────────\n",
              "   1 │ ind1    0.917462      0.0      2.0\n",
              "   2 │ ind2    1.1245        1.0      2.0\n",
              "   3 │ ind3    1.1446        2.0      1.0"
            ],
            "text/html": [
              "<table class=\"data-frame\"><thead><tr><th></th><th>ID</th><th>y</th><th>m1</th><th>m2</th></tr><tr><th></th><th>String</th><th>Float64</th><th>Float64</th><th>Float64</th></tr></thead><tbody><p>3 rows × 4 columns</p><tr><th>1</th><td>ind1</td><td>0.917462</td><td>0.0</td><td>2.0</td></tr><tr><th>2</th><td>ind2</td><td>1.1245</td><td>1.0</td><td>2.0</td></tr><tr><th>3</th><td>ind3</td><td>1.1446</td><td>2.0</td><td>1.0</td></tr></tbody></table>"
            ],
            "text/latex": "\\begin{tabular}{r|cccc}\n\t& ID & y & m1 & m2\\\\\n\t\\hline\n\t& String & Float64 & Float64 & Float64\\\\\n\t\\hline\n\t1 & ind1 & 0.917462 & 0.0 & 2.0 \\\\\n\t2 & ind2 & 1.1245 & 1.0 & 2.0 \\\\\n\t3 & ind3 & 1.1446 & 2.0 & 1.0 \\\\\n\\end{tabular}\n"
          },
          "metadata": {},
          "execution_count": 21
        }
      ]
    },
    {
      "cell_type": "markdown",
      "source": [
        "## 1.8 Indexing"
      ],
      "metadata": {
        "id": "ypvPQZuCmvFf"
      }
    },
    {
      "cell_type": "code",
      "source": [
        "mydf[1:2,:y] # returns a vector"
      ],
      "metadata": {
        "colab": {
          "base_uri": "https://localhost:8080/"
        },
        "id": "ZLyaeW-knLZe",
        "outputId": "430b76d5-4a05-476e-cf66-a32684c59be1"
      },
      "execution_count": 22,
      "outputs": [
        {
          "output_type": "execute_result",
          "data": {
            "text/plain": [
              "2-element Vector{Float64}:\n",
              " 0.9174624888621485\n",
              " 1.1245039508348154"
            ]
          },
          "metadata": {},
          "execution_count": 22
        }
      ]
    },
    {
      "cell_type": "code",
      "source": [
        "mydf[1:2,2] # returns a vector"
      ],
      "metadata": {
        "colab": {
          "base_uri": "https://localhost:8080/"
        },
        "id": "bCfLNCEmm3jc",
        "outputId": "d9dfeae0-b66a-4fd4-e7c2-8b8e84a2bb52"
      },
      "execution_count": 23,
      "outputs": [
        {
          "output_type": "execute_result",
          "data": {
            "text/plain": [
              "2-element Vector{Float64}:\n",
              " 0.9174624888621485\n",
              " 1.1245039508348154"
            ]
          },
          "metadata": {},
          "execution_count": 23
        }
      ]
    },
    {
      "cell_type": "code",
      "source": [
        "mydf[1:2,[:y]] #returns a data frame object"
      ],
      "metadata": {
        "colab": {
          "base_uri": "https://localhost:8080/",
          "height": 134
        },
        "id": "LcnDwdzsnPHB",
        "outputId": "8d9fd552-7180-4026-e3cf-c57b80adc0e6"
      },
      "execution_count": 24,
      "outputs": [
        {
          "output_type": "execute_result",
          "data": {
            "text/plain": [
              "\u001b[1m2×1 DataFrame\u001b[0m\n",
              "\u001b[1m Row \u001b[0m│\u001b[1m y        \u001b[0m\n",
              "\u001b[1m     \u001b[0m│\u001b[90m Float64  \u001b[0m\n",
              "─────┼──────────\n",
              "   1 │ 0.917462\n",
              "   2 │ 1.1245"
            ],
            "text/html": [
              "<table class=\"data-frame\"><thead><tr><th></th><th>y</th></tr><tr><th></th><th>Float64</th></tr></thead><tbody><p>2 rows × 1 columns</p><tr><th>1</th><td>0.917462</td></tr><tr><th>2</th><td>1.1245</td></tr></tbody></table>"
            ],
            "text/latex": "\\begin{tabular}{r|c}\n\t& y\\\\\n\t\\hline\n\t& Float64\\\\\n\t\\hline\n\t1 & 0.917462 \\\\\n\t2 & 1.1245 \\\\\n\\end{tabular}\n"
          },
          "metadata": {},
          "execution_count": 24
        }
      ]
    },
    {
      "cell_type": "code",
      "source": [
        "mydf[1:2,[2]] #returns a data frame object"
      ],
      "metadata": {
        "colab": {
          "base_uri": "https://localhost:8080/",
          "height": 134
        },
        "id": "lveOtMHnnR2i",
        "outputId": "cf614703-744a-4485-fef7-5714e5cb689e"
      },
      "execution_count": 25,
      "outputs": [
        {
          "output_type": "execute_result",
          "data": {
            "text/plain": [
              "\u001b[1m2×1 DataFrame\u001b[0m\n",
              "\u001b[1m Row \u001b[0m│\u001b[1m y        \u001b[0m\n",
              "\u001b[1m     \u001b[0m│\u001b[90m Float64  \u001b[0m\n",
              "─────┼──────────\n",
              "   1 │ 0.917462\n",
              "   2 │ 1.1245"
            ],
            "text/html": [
              "<table class=\"data-frame\"><thead><tr><th></th><th>y</th></tr><tr><th></th><th>Float64</th></tr></thead><tbody><p>2 rows × 1 columns</p><tr><th>1</th><td>0.917462</td></tr><tr><th>2</th><td>1.1245</td></tr></tbody></table>"
            ],
            "text/latex": "\\begin{tabular}{r|c}\n\t& y\\\\\n\t\\hline\n\t& Float64\\\\\n\t\\hline\n\t1 & 0.917462 \\\\\n\t2 & 1.1245 \\\\\n\\end{tabular}\n"
          },
          "metadata": {},
          "execution_count": 25
        }
      ]
    },
    {
      "cell_type": "code",
      "source": [
        "mydf[1:2,[1,3]] #returns a data frame object"
      ],
      "metadata": {
        "colab": {
          "base_uri": "https://localhost:8080/",
          "height": 134
        },
        "id": "VFDUY3dQmywb",
        "outputId": "b66932cd-f68f-4465-ef6b-c545763eae73"
      },
      "execution_count": 26,
      "outputs": [
        {
          "output_type": "execute_result",
          "data": {
            "text/plain": [
              "\u001b[1m2×2 DataFrame\u001b[0m\n",
              "\u001b[1m Row \u001b[0m│\u001b[1m ID     \u001b[0m\u001b[1m m1      \u001b[0m\n",
              "\u001b[1m     \u001b[0m│\u001b[90m String \u001b[0m\u001b[90m Float64 \u001b[0m\n",
              "─────┼─────────────────\n",
              "   1 │ ind1        0.0\n",
              "   2 │ ind2        1.0"
            ],
            "text/html": [
              "<table class=\"data-frame\"><thead><tr><th></th><th>ID</th><th>m1</th></tr><tr><th></th><th>String</th><th>Float64</th></tr></thead><tbody><p>2 rows × 2 columns</p><tr><th>1</th><td>ind1</td><td>0.0</td></tr><tr><th>2</th><td>ind2</td><td>1.0</td></tr></tbody></table>"
            ],
            "text/latex": "\\begin{tabular}{r|cc}\n\t& ID & m1\\\\\n\t\\hline\n\t& String & Float64\\\\\n\t\\hline\n\t1 & ind1 & 0.0 \\\\\n\t2 & ind2 & 1.0 \\\\\n\\end{tabular}\n"
          },
          "metadata": {},
          "execution_count": 26
        }
      ]
    },
    {
      "cell_type": "code",
      "source": [
        "mydf[1:2,end] #end means the last one"
      ],
      "metadata": {
        "colab": {
          "base_uri": "https://localhost:8080/"
        },
        "id": "61b0gPnLm-DY",
        "outputId": "aa1fd323-7b4c-499a-c89e-25b2fba2ec22"
      },
      "execution_count": 27,
      "outputs": [
        {
          "output_type": "execute_result",
          "data": {
            "text/plain": [
              "2-element Vector{Float64}:\n",
              " 2.0\n",
              " 2.0"
            ]
          },
          "metadata": {},
          "execution_count": 27
        }
      ]
    },
    {
      "cell_type": "markdown",
      "source": [
        "## 1.9 DataFrame to Matrix"
      ],
      "metadata": {
        "id": "mpmWed8Cl2K4"
      }
    },
    {
      "cell_type": "code",
      "source": [
        "Matrix(mydf[:,[:m1,:m2]])"
      ],
      "metadata": {
        "colab": {
          "base_uri": "https://localhost:8080/"
        },
        "id": "Pth_IBTnl5Yi",
        "outputId": "0401388f-6ec5-4d57-ba2c-98292f391c64"
      },
      "execution_count": 28,
      "outputs": [
        {
          "output_type": "execute_result",
          "data": {
            "text/plain": [
              "3×2 Matrix{Float64}:\n",
              " 0.0  2.0\n",
              " 1.0  2.0\n",
              " 2.0  1.0"
            ]
          },
          "metadata": {},
          "execution_count": 28
        }
      ]
    },
    {
      "cell_type": "markdown",
      "source": [
        "## 1.10 get basic information about a dataframe"
      ],
      "metadata": {
        "id": "w-7ttyfNlsvu"
      }
    },
    {
      "cell_type": "code",
      "source": [
        "size(mydf)"
      ],
      "metadata": {
        "colab": {
          "base_uri": "https://localhost:8080/"
        },
        "id": "eUaS2nL0mGOe",
        "outputId": "0a25a1d8-01f1-499d-a9dc-7b8f9949a0c1"
      },
      "execution_count": 31,
      "outputs": [
        {
          "output_type": "execute_result",
          "data": {
            "text/plain": [
              "(3, 4)"
            ]
          },
          "metadata": {},
          "execution_count": 31
        }
      ]
    },
    {
      "cell_type": "code",
      "source": [
        "size(mydf,1)"
      ],
      "metadata": {
        "colab": {
          "base_uri": "https://localhost:8080/"
        },
        "id": "3VW34ps9mIsN",
        "outputId": "585e5f8a-e0fd-4e3a-d2c7-8e9f56203787"
      },
      "execution_count": 32,
      "outputs": [
        {
          "output_type": "execute_result",
          "data": {
            "text/plain": [
              "3"
            ]
          },
          "metadata": {},
          "execution_count": 32
        }
      ]
    },
    {
      "cell_type": "code",
      "source": [
        "size(mydf,2)"
      ],
      "metadata": {
        "colab": {
          "base_uri": "https://localhost:8080/"
        },
        "id": "SrIdKcRCmIyS",
        "outputId": "a01f84ac-d398-4f0d-d222-5793a7fafe8a"
      },
      "execution_count": 33,
      "outputs": [
        {
          "output_type": "execute_result",
          "data": {
            "text/plain": [
              "4"
            ]
          },
          "metadata": {},
          "execution_count": 33
        }
      ]
    },
    {
      "cell_type": "code",
      "source": [
        "nrow(mydf)"
      ],
      "metadata": {
        "colab": {
          "base_uri": "https://localhost:8080/"
        },
        "id": "_6jq-6FJmI1J",
        "outputId": "b3852588-844b-4dfc-9244-e6b62394641f"
      },
      "execution_count": 34,
      "outputs": [
        {
          "output_type": "execute_result",
          "data": {
            "text/plain": [
              "3"
            ]
          },
          "metadata": {},
          "execution_count": 34
        }
      ]
    },
    {
      "cell_type": "code",
      "source": [
        "ncol(mydf)"
      ],
      "metadata": {
        "colab": {
          "base_uri": "https://localhost:8080/"
        },
        "id": "wC3B1Z4_mI3b",
        "outputId": "84229e20-607a-4f62-cdc3-47eef0f0d1ba"
      },
      "execution_count": 35,
      "outputs": [
        {
          "output_type": "execute_result",
          "data": {
            "text/plain": [
              "4"
            ]
          },
          "metadata": {},
          "execution_count": 35
        }
      ]
    },
    {
      "cell_type": "code",
      "source": [
        "first(mydf, 2) #show the first 2 rows"
      ],
      "metadata": {
        "colab": {
          "base_uri": "https://localhost:8080/",
          "height": 134
        },
        "id": "kcddZJ82mI5V",
        "outputId": "98caf1ae-339f-4949-da08-bff19bf31624"
      },
      "execution_count": 36,
      "outputs": [
        {
          "output_type": "execute_result",
          "data": {
            "text/plain": [
              "\u001b[1m2×4 DataFrame\u001b[0m\n",
              "\u001b[1m Row \u001b[0m│\u001b[1m ID     \u001b[0m\u001b[1m y        \u001b[0m\u001b[1m m1      \u001b[0m\u001b[1m m2      \u001b[0m\n",
              "\u001b[1m     \u001b[0m│\u001b[90m String \u001b[0m\u001b[90m Float64  \u001b[0m\u001b[90m Float64 \u001b[0m\u001b[90m Float64 \u001b[0m\n",
              "─────┼────────────────────────────────────\n",
              "   1 │ ind1    0.917462      0.0      2.0\n",
              "   2 │ ind2    1.1245        1.0      2.0"
            ],
            "text/html": [
              "<table class=\"data-frame\"><thead><tr><th></th><th>ID</th><th>y</th><th>m1</th><th>m2</th></tr><tr><th></th><th>String</th><th>Float64</th><th>Float64</th><th>Float64</th></tr></thead><tbody><p>2 rows × 4 columns</p><tr><th>1</th><td>ind1</td><td>0.917462</td><td>0.0</td><td>2.0</td></tr><tr><th>2</th><td>ind2</td><td>1.1245</td><td>1.0</td><td>2.0</td></tr></tbody></table>"
            ],
            "text/latex": "\\begin{tabular}{r|cccc}\n\t& ID & y & m1 & m2\\\\\n\t\\hline\n\t& String & Float64 & Float64 & Float64\\\\\n\t\\hline\n\t1 & ind1 & 0.917462 & 0.0 & 2.0 \\\\\n\t2 & ind2 & 1.1245 & 1.0 & 2.0 \\\\\n\\end{tabular}\n"
          },
          "metadata": {},
          "execution_count": 36
        }
      ]
    },
    {
      "cell_type": "code",
      "source": [
        "last(mydf, 3) #show the last 3 rows"
      ],
      "metadata": {
        "colab": {
          "base_uri": "https://localhost:8080/",
          "height": 155
        },
        "id": "O3mukLL2mi4g",
        "outputId": "1f7ecc76-1c2e-4763-9834-775ee1ec5885"
      },
      "execution_count": 37,
      "outputs": [
        {
          "output_type": "execute_result",
          "data": {
            "text/plain": [
              "\u001b[1m3×4 DataFrame\u001b[0m\n",
              "\u001b[1m Row \u001b[0m│\u001b[1m ID     \u001b[0m\u001b[1m y        \u001b[0m\u001b[1m m1      \u001b[0m\u001b[1m m2      \u001b[0m\n",
              "\u001b[1m     \u001b[0m│\u001b[90m String \u001b[0m\u001b[90m Float64  \u001b[0m\u001b[90m Float64 \u001b[0m\u001b[90m Float64 \u001b[0m\n",
              "─────┼────────────────────────────────────\n",
              "   1 │ ind1    0.917462      0.0      2.0\n",
              "   2 │ ind2    1.1245        1.0      2.0\n",
              "   3 │ ind3    1.1446        2.0      1.0"
            ],
            "text/html": [
              "<table class=\"data-frame\"><thead><tr><th></th><th>ID</th><th>y</th><th>m1</th><th>m2</th></tr><tr><th></th><th>String</th><th>Float64</th><th>Float64</th><th>Float64</th></tr></thead><tbody><p>3 rows × 4 columns</p><tr><th>1</th><td>ind1</td><td>0.917462</td><td>0.0</td><td>2.0</td></tr><tr><th>2</th><td>ind2</td><td>1.1245</td><td>1.0</td><td>2.0</td></tr><tr><th>3</th><td>ind3</td><td>1.1446</td><td>2.0</td><td>1.0</td></tr></tbody></table>"
            ],
            "text/latex": "\\begin{tabular}{r|cccc}\n\t& ID & y & m1 & m2\\\\\n\t\\hline\n\t& String & Float64 & Float64 & Float64\\\\\n\t\\hline\n\t1 & ind1 & 0.917462 & 0.0 & 2.0 \\\\\n\t2 & ind2 & 1.1245 & 1.0 & 2.0 \\\\\n\t3 & ind3 & 1.1446 & 2.0 & 1.0 \\\\\n\\end{tabular}\n"
          },
          "metadata": {},
          "execution_count": 37
        }
      ]
    }
  ],
  "metadata": {
    "colab": {
      "collapsed_sections": [],
      "name": "tianjing_DataFrame.ipynb",
      "provenance": [],
      "machine_shape": "hm"
    },
    "kernelspec": {
      "display_name": "Julia",
      "language": "julia",
      "name": "julia"
    },
    "language_info": {
      "file_extension": ".jl",
      "mimetype": "application/julia",
      "name": "julia"
    },
    "gpuClass": "standard"
  },
  "nbformat": 4,
  "nbformat_minor": 0
}